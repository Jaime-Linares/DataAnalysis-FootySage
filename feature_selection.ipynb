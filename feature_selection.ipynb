{
 "cells": [
  {
   "cell_type": "markdown",
   "metadata": {},
   "source": [
    "## FEATURE SELECTION - FootySage"
   ]
  },
  {
   "cell_type": "markdown",
   "metadata": {},
   "source": [
    "En este cuaderno se define un flujo de trabajo para la selección y análisis de características relevantes utilizando los datos de *Open Data* de ***StatsBomb***. \n",
    "\n",
    "Este proceso comienza con la integración de información proveniente de diversas fuentes, como partidos, alineaciones y eventos, consolidándola en un dataset estructurado. Cada fila del dataset representa un partido, enriquecido con métricas calculadas que reflejan aspectos clave del rendimiento, como estadísticas agregadas de pases, disparos, recuperaciones, faltas, entre otros.\n",
    "\n",
    "A partir de este dataset, se entrenarán modelos básicos de Machine Learning, como Árboles de Decisión (Decision Tree), Regresión Logística (Logistic Regression) y K-Nearest Neighbors (KNN). El objetivo es evaluar su capacidad de clasificación y obtener conclusiones sobre la influencia de las características seleccionadas. Este enfoque inicial proporcionará una base sólida para ampliar el análisis hacia conjuntos de datos más extensos e implementar modelos más avanzados en futuras fases del proyecto."
   ]
  },
  {
   "cell_type": "markdown",
   "metadata": {},
   "source": [
    "### Estudio de una competición en una temporada (Competición regular)"
   ]
  },
  {
   "cell_type": "markdown",
   "metadata": {},
   "source": [
    "#### Carga y procesamiento de datos (extracción y estructuración)"
   ]
  },
  {
   "cell_type": "markdown",
   "metadata": {},
   "source": [
    "En primer lugar seleccionamos la competición y la temporada de esa competición que queremos estudiar."
   ]
  },
  {
   "cell_type": "code",
   "execution_count": 440,
   "metadata": {},
   "outputs": [
    {
     "name": "stdout",
     "output_type": "stream",
     "text": [
      "We are going to study the tournament La Liga (2015/2016, male) whose competition_id=11 and season_id=27\n"
     ]
    }
   ],
   "source": [
    "from src.fetch_data import get_competition_id_and_season_id\n",
    "\n",
    "\n",
    "# seleccionamos el torneo a estudiar (competición, temporada y género)\n",
    "competition_name = \"La Liga\"\n",
    "competition_gender = \"male\"\n",
    "season_name = \"2015/2016\"\n",
    "season_name_for_filename = \"2015_2016\"\n",
    "\n",
    "competition_id, season_id = get_competition_id_and_season_id(competition_name, competition_gender, season_name)\n",
    "print(f\"We are going to study the tournament {competition_name + ' (' + season_name + ', ' + competition_gender + ')'} whose competition_id={competition_id} and season_id={season_id}\")"
   ]
  },
  {
   "cell_type": "markdown",
   "metadata": {},
   "source": [
    "Dada esa competición vamos a obtener cuales son todos los partidos que se han jugado en tal competición esa temporada."
   ]
  },
  {
   "cell_type": "code",
   "execution_count": 441,
   "metadata": {},
   "outputs": [
    {
     "name": "stdout",
     "output_type": "stream",
     "text": [
      "Number of matches in the competition that season: 380\n",
      "All values in column 'match_status' are equal: available\n"
     ]
    }
   ],
   "source": [
    "from src.fetch_data import get_matches\n",
    "\n",
    "\n",
    "matches_df = get_matches(competition_id, season_id)\n",
    "print(f\"Number of matches in the competition that season: {matches_df.shape[0]}\")\n",
    "\n",
    "# comprobamos que todos los partidos estén disponibles para obtener información\n",
    "column_name = \"match_status\"\n",
    "if matches_df[column_name].nunique() == 1: \n",
    "    print(f\"All values in column '{column_name}' are equal: {matches_df[column_name].iloc[0]}\")\n",
    "else:\n",
    "    print(f\"The values in column '{column_name}' are different.\")"
   ]
  },
  {
   "cell_type": "markdown",
   "metadata": {},
   "source": [
    "Tras tener todos los partidos de la competición ordenados a nuestro gusto, nos disponemos a obtener los datos relacionados con eventos, alineaciones... de cada partido. \n",
    "\n",
    "Estos datos son ('(x2)' se refiere tanto al equipo de casa como al de fuera y 'x' en el nombre de la variable hace referencia a 'home' y 'away'):\n",
    "- Estadísticas generales:\n",
    "  - Tiros:\n",
    "    - Número de tiros totales (x2) --> total_shots_x\n",
    "    - Ratio de tiros a puerta (x2) --> shots_on_target_ratio_x\n",
    "    - Distancia promedio a la portería desde donde se hacen los tiros a puerta (x2) --> average_shot_on_target_distance_x\n",
    "    - Tiros con alto xG (umbral > 0.2) (x2) --> shots_high_xG_x\n",
    "    - Número de tiros dentro del área (x2) --> shots_inside_area_x\n",
    "    - Ratio de tiros dentro del área (x2) --> shots_inside_area_ratio_x\n",
    "    - Número de tiros con el pie (derecho e izquierdo) (x2) --> shots_foot_x\n",
    "    - Número de tiros con la cabeza (x2) --> shots_head_x\n",
    "    - Número de tiros con otra parte del cuerpo (x2) --> shots_other_x\n",
    "  - Pases:\n",
    "    - Número de pases realizados (x2) --> total_passes_x\n",
    "    - Precisión de pases realizados (x2) --> pass_success_ratio_x\n",
    "    - Número de pases claves realizados (x2) --> key_passes_x\n",
    "    - Número de pases necesarios para hacer un gol (x2) --> passes_needed_to_make_a_shot_x\n",
    "    - Número de centros al área ralizados (x2) --> cross_x\n",
    "    - Precisión de los centros al área (x2) --> cross_success_ratio_x\n",
    "    - Número de corners (x2) --> corners_x\n",
    "  - Defensa:\n",
    "    - Número de intercepciones realizadas con éxito (x2) --> interceptions_won_x\n",
    "    - Número de recuperaciones/robos (x2) --> recoveries_x\n",
    "    - Número de bloqueos realizados (x2) --> blocks_x\n",
    "    - Número de duelos ganados (x2) --> duels_won_x\n",
    "    - Número de entradas realizadas (x2) --> tackles_x\n",
    "    - Ratio de entradas exitosas (x2) --> tackles_success_ratio_x\n",
    "    - Número de faltas cometidas por equipo (x2) --> fouls_committed_x\n",
    "    - Número de balones divididos (50-50) ganados (x2) --> 50_50_won_x\n",
    "    - Número de despejes por equipo (x2) --> clearance_x\n",
    "    - Número de penaltis cometidos (x2) --> penaltys_committed_x\n",
    "    - Número de errores claves cometidos (x2) --> key_errors_x\n",
    "    - Número de pérdidas debido a malos controles (x2) --> miscontrol_x\n",
    "    - Número de tarjetas amarillas (x2) --> yellow_cards_x\n",
    "    - Número de tarjetas rojas (x2) --> red_cards_x\n",
    "  - Presión:\n",
    "    - Número de presiones realizadas (x2) --> pressures_x\n",
    "    - Número de presiones inmediatas tras pérdida (x2) --> counterpress_x\n",
    "    - Presiones realizas en tercio ofensivo (x2) --> pressures_in_attacking_third_x\n",
    "  - Otros:\n",
    "    - Número de fueras de juego (x2) --> offside_x\n",
    "    - Número de dribbles intentados (x2) --> dribbles_x\n",
    "    - Ratio de dribbles exitosos (x2) --> dribbles_success_ratio_x\n",
    "    - Número de cambios por lesión (x2) --> injuries_substitution_x\n",
    "    - Número de jugadores lesionados que han abandonado el campo sin hacer una sustitución (x2) --> players_off_x\n",
    "    - Número de pérdidas de balón (x2) --> dispossessed_x\n",
    "    - Número de contragolpes/contrataques (x2) --> counterattacks_x\n",
    "    - Porcentaje de posesión (x2) --> possession_percentage_x\n",
    "- Estadísticas contextuales:\n",
    "  - Recuperaciones:\n",
    "    - Recuperaciones en tercio ofensivo (x2) --> recoveries_attacking_third_x\n",
    "    - Recuperaciones en tercio medio (x2) --> recoveries_middle_third_x\n",
    "    - Recuperaciones en tercio defensivo (x2) --> recoveries_defensive_third_x\n",
    "  - Eventos bajo presión:\n",
    "    - Tiros realizados bajo presión (x2) --> shots_under_pressure_x\n",
    "    - Tiros realizados sin presión en el área (x2) --> shots_without_pressure_inside_area_x \n",
    "    - Pases realizados bajo presión (x2) --> passes_under_pressure_x\n",
    "    - Pases realizados sin presión en el área (x2) --> passes_without_pressure_inside_area_x\n",
    "  - Jugadas a balón parado:\n",
    "    - Tiros generados desde jugadas a balón parado (x2) --> set_piece_shots_x\n",
    "    - Tiros en el área generados desde jugadas a balón parado (x2) --> set_piece_shots_inside_area_x\n",
    "    - Ratio de tiros a puerta generados desde jugadas a balón parado (x2) --> set_piece_shots_on_target_ratio_x\n",
    "- Tácticas:\n",
    "  - Número de substituciones realizadas (x2) --> substitutions_x\n",
    "  - Número de substituciones debido a una razón táctica realizadas (x2) --> tactical_substitutions_x\n",
    "  - Número de cambios tácticos realizados (x2) --> tactical_changes_x\n",
    "  - Número de veces que se cambia la formación en el partido (x2) --> formation_changes_x\n",
    "- Métricas temporales:\n",
    "  - Rendimiento partidos pasados:\n",
    "    - Resumen de los últimos 3 partidos (3|1|0) (x2) --> last_3_matches_form_x\n",
    "    - Es válido el resumen de los últimos 3 partidos (boolean) (x2) --> is_valid_last_3_matches_form_x\n",
    "    - Porcentaje de victoria en los últimos 5 partidos (x2) --> win_rate_last_5_matches_x\n",
    "    - Es válido el porcentaje de victoria en los últimos 5 partidos (boolean) (x2) --> is_valid_win_rate_last_5_matches_x\n",
    "    - Victoria en el último partido en casa del equipo local (boolean) --> win_last_home_match_home_team\n",
    "    - Es válida la última victoria en el último partido en casa del equipo local (boolean) --> is_valid_win_last_home_match_home_team\n",
    "    - Victoria en el último partido fuera del equipo visitante (boolean) --> win_last_away_match_away_team\n",
    "    - Es válida la última victoria en el último partido fuera del equipo visitante (boolean) --> is_valid_win_last_away_match_away_team\n",
    "  - Último partido:\n",
    "    - Número de goles concedidos en el último partido (x2) --> goals_conceded_last_match_x\n",
    "    - Es válido el número de goles concedidos en el último partido (boolean) (x2) --> is_valid_goals_conceded_last_match_x\n",
    "    - Número de goles anotados en el último partido (x2) --> goals_scored_last_match_x\n",
    "    - Es válido el número de goles anotados en el último partido (boolean) (x2) --> is_valid_goals_scored_last_match_x\n",
    "  - Consistencia:\n",
    "    - Desviación estándar de tiros en los últimos 3 partidos (x2) --> std_shots_last_3_matches_x\n",
    "    - Es válida la desviación estándar de tiros en los últimos 3 partidos (boolean) (x2) --> is_valid_std_shots_last_3_matches_x\n",
    "- Equipo ganador --> winner_team (home_team, away_team, draw)"
   ]
  },
  {
   "cell_type": "code",
   "execution_count": 442,
   "metadata": {},
   "outputs": [
    {
     "name": "stdout",
     "output_type": "stream",
     "text": [
      "Matches from the competition already processed and saved in data/processed/La Liga(2015_2016_male)_processed.csv\n",
      "If you want to process again the matches, please delete the file.\n"
     ]
    }
   ],
   "source": [
    "from src.data_processing import process_all_matches\n",
    "import pandas as pd\n",
    "import os\n",
    "\n",
    "\n",
    "output_dir = \"data/processed/\"\n",
    "filename = f\"{competition_name}({season_name_for_filename}_{competition_gender})_processed.csv\"\n",
    "output_path = os.path.join(output_dir, filename)\n",
    "\n",
    "# comprobamos si ya hemos procesado los partidos de la competición en esa temporada\n",
    "if os.path.exists(output_path):    # si ya los hemos procesado, los cargamos\n",
    "    print(f\"Matches from the competition already processed and saved in {output_path}\")\n",
    "    print(\"If you want to process again the matches, please delete the file.\")\n",
    "    matches_processed_df = pd.read_csv(output_path)\n",
    "else:     # si no los hemos procesado, los procesamos y guardamos\n",
    "    # procesamos todos los partido de la competición\n",
    "    matches_processed_df = process_all_matches(matches_df)\n",
    "    # guardamos la información procesada en un csv por si en algún momento necesitamos volver a tener que cargar esta información\n",
    "    matches_processed_df.to_csv(output_path, index=False)\n",
    "    print(f\"All matches from the competition processed and save in {output_dir}/{filename}\")"
   ]
  },
  {
   "cell_type": "code",
   "execution_count": 443,
   "metadata": {},
   "outputs": [
    {
     "data": {
      "text/html": [
       "<div>\n",
       "<style scoped>\n",
       "    .dataframe tbody tr th:only-of-type {\n",
       "        vertical-align: middle;\n",
       "    }\n",
       "\n",
       "    .dataframe tbody tr th {\n",
       "        vertical-align: top;\n",
       "    }\n",
       "\n",
       "    .dataframe thead th {\n",
       "        text-align: right;\n",
       "    }\n",
       "</style>\n",
       "<table border=\"1\" class=\"dataframe\">\n",
       "  <thead>\n",
       "    <tr style=\"text-align: right;\">\n",
       "      <th></th>\n",
       "      <th>total_shots_home</th>\n",
       "      <th>total_shots_away</th>\n",
       "      <th>shots_on_target_ratio_home</th>\n",
       "      <th>shots_on_target_ratio_away</th>\n",
       "      <th>average_shots_on_target_distance_home</th>\n",
       "      <th>average_shots_on_target_distance_away</th>\n",
       "      <th>shots_high_xG_home</th>\n",
       "      <th>shots_high_xG_away</th>\n",
       "      <th>shots_inside_area_home</th>\n",
       "      <th>shots_inside_area_away</th>\n",
       "      <th>...</th>\n",
       "      <th>is_valid_goals_conceded_last_match_away</th>\n",
       "      <th>goals_scored_last_match_home</th>\n",
       "      <th>is_valid_goals_scored_last_match_home</th>\n",
       "      <th>goals_scored_last_match_away</th>\n",
       "      <th>is_valid_goals_scored_last_match_away</th>\n",
       "      <th>std_shots_last_3_matches_home</th>\n",
       "      <th>is_valid_std_shots_last_3_matches_home</th>\n",
       "      <th>std_shots_last_3_matches_away</th>\n",
       "      <th>is_valid_std_shots_last_3_matches_away</th>\n",
       "      <th>winner_team</th>\n",
       "    </tr>\n",
       "  </thead>\n",
       "  <tbody>\n",
       "    <tr>\n",
       "      <th>0</th>\n",
       "      <td>5</td>\n",
       "      <td>13</td>\n",
       "      <td>0.400000</td>\n",
       "      <td>0.153846</td>\n",
       "      <td>20.462904</td>\n",
       "      <td>15.923442</td>\n",
       "      <td>0</td>\n",
       "      <td>2</td>\n",
       "      <td>3</td>\n",
       "      <td>5</td>\n",
       "      <td>...</td>\n",
       "      <td>0</td>\n",
       "      <td>0</td>\n",
       "      <td>0</td>\n",
       "      <td>0</td>\n",
       "      <td>0</td>\n",
       "      <td>0.0</td>\n",
       "      <td>0</td>\n",
       "      <td>0.0</td>\n",
       "      <td>0</td>\n",
       "      <td>home_team</td>\n",
       "    </tr>\n",
       "    <tr>\n",
       "      <th>1</th>\n",
       "      <td>16</td>\n",
       "      <td>10</td>\n",
       "      <td>0.312500</td>\n",
       "      <td>0.300000</td>\n",
       "      <td>25.239973</td>\n",
       "      <td>18.652679</td>\n",
       "      <td>0</td>\n",
       "      <td>2</td>\n",
       "      <td>3</td>\n",
       "      <td>6</td>\n",
       "      <td>...</td>\n",
       "      <td>0</td>\n",
       "      <td>0</td>\n",
       "      <td>0</td>\n",
       "      <td>0</td>\n",
       "      <td>0</td>\n",
       "      <td>0.0</td>\n",
       "      <td>0</td>\n",
       "      <td>0.0</td>\n",
       "      <td>0</td>\n",
       "      <td>draw</td>\n",
       "    </tr>\n",
       "    <tr>\n",
       "      <th>2</th>\n",
       "      <td>6</td>\n",
       "      <td>10</td>\n",
       "      <td>0.333333</td>\n",
       "      <td>0.400000</td>\n",
       "      <td>33.431447</td>\n",
       "      <td>11.773407</td>\n",
       "      <td>0</td>\n",
       "      <td>2</td>\n",
       "      <td>3</td>\n",
       "      <td>7</td>\n",
       "      <td>...</td>\n",
       "      <td>0</td>\n",
       "      <td>0</td>\n",
       "      <td>0</td>\n",
       "      <td>0</td>\n",
       "      <td>0</td>\n",
       "      <td>0.0</td>\n",
       "      <td>0</td>\n",
       "      <td>0.0</td>\n",
       "      <td>0</td>\n",
       "      <td>away_team</td>\n",
       "    </tr>\n",
       "    <tr>\n",
       "      <th>3</th>\n",
       "      <td>13</td>\n",
       "      <td>10</td>\n",
       "      <td>0.461538</td>\n",
       "      <td>0.400000</td>\n",
       "      <td>24.394269</td>\n",
       "      <td>9.439840</td>\n",
       "      <td>2</td>\n",
       "      <td>2</td>\n",
       "      <td>7</td>\n",
       "      <td>8</td>\n",
       "      <td>...</td>\n",
       "      <td>0</td>\n",
       "      <td>0</td>\n",
       "      <td>0</td>\n",
       "      <td>0</td>\n",
       "      <td>0</td>\n",
       "      <td>0.0</td>\n",
       "      <td>0</td>\n",
       "      <td>0.0</td>\n",
       "      <td>0</td>\n",
       "      <td>away_team</td>\n",
       "    </tr>\n",
       "    <tr>\n",
       "      <th>4</th>\n",
       "      <td>26</td>\n",
       "      <td>10</td>\n",
       "      <td>0.153846</td>\n",
       "      <td>0.200000</td>\n",
       "      <td>20.432657</td>\n",
       "      <td>19.849825</td>\n",
       "      <td>0</td>\n",
       "      <td>2</td>\n",
       "      <td>10</td>\n",
       "      <td>8</td>\n",
       "      <td>...</td>\n",
       "      <td>0</td>\n",
       "      <td>0</td>\n",
       "      <td>0</td>\n",
       "      <td>0</td>\n",
       "      <td>0</td>\n",
       "      <td>0.0</td>\n",
       "      <td>0</td>\n",
       "      <td>0.0</td>\n",
       "      <td>0</td>\n",
       "      <td>draw</td>\n",
       "    </tr>\n",
       "    <tr>\n",
       "      <th>5</th>\n",
       "      <td>6</td>\n",
       "      <td>27</td>\n",
       "      <td>0.000000</td>\n",
       "      <td>0.296296</td>\n",
       "      <td>120.000000</td>\n",
       "      <td>21.352619</td>\n",
       "      <td>0</td>\n",
       "      <td>1</td>\n",
       "      <td>4</td>\n",
       "      <td>12</td>\n",
       "      <td>...</td>\n",
       "      <td>0</td>\n",
       "      <td>0</td>\n",
       "      <td>0</td>\n",
       "      <td>0</td>\n",
       "      <td>0</td>\n",
       "      <td>0.0</td>\n",
       "      <td>0</td>\n",
       "      <td>0.0</td>\n",
       "      <td>0</td>\n",
       "      <td>draw</td>\n",
       "    </tr>\n",
       "    <tr>\n",
       "      <th>6</th>\n",
       "      <td>12</td>\n",
       "      <td>7</td>\n",
       "      <td>0.250000</td>\n",
       "      <td>0.000000</td>\n",
       "      <td>25.685715</td>\n",
       "      <td>120.000000</td>\n",
       "      <td>0</td>\n",
       "      <td>1</td>\n",
       "      <td>5</td>\n",
       "      <td>4</td>\n",
       "      <td>...</td>\n",
       "      <td>0</td>\n",
       "      <td>0</td>\n",
       "      <td>0</td>\n",
       "      <td>0</td>\n",
       "      <td>0</td>\n",
       "      <td>0.0</td>\n",
       "      <td>0</td>\n",
       "      <td>0.0</td>\n",
       "      <td>0</td>\n",
       "      <td>home_team</td>\n",
       "    </tr>\n",
       "    <tr>\n",
       "      <th>7</th>\n",
       "      <td>11</td>\n",
       "      <td>14</td>\n",
       "      <td>0.181818</td>\n",
       "      <td>0.428571</td>\n",
       "      <td>24.736200</td>\n",
       "      <td>17.236907</td>\n",
       "      <td>0</td>\n",
       "      <td>1</td>\n",
       "      <td>3</td>\n",
       "      <td>7</td>\n",
       "      <td>...</td>\n",
       "      <td>0</td>\n",
       "      <td>0</td>\n",
       "      <td>0</td>\n",
       "      <td>0</td>\n",
       "      <td>0</td>\n",
       "      <td>0.0</td>\n",
       "      <td>0</td>\n",
       "      <td>0.0</td>\n",
       "      <td>0</td>\n",
       "      <td>away_team</td>\n",
       "    </tr>\n",
       "    <tr>\n",
       "      <th>8</th>\n",
       "      <td>22</td>\n",
       "      <td>8</td>\n",
       "      <td>0.272727</td>\n",
       "      <td>0.500000</td>\n",
       "      <td>22.581797</td>\n",
       "      <td>18.761077</td>\n",
       "      <td>2</td>\n",
       "      <td>2</td>\n",
       "      <td>10</td>\n",
       "      <td>7</td>\n",
       "      <td>...</td>\n",
       "      <td>0</td>\n",
       "      <td>0</td>\n",
       "      <td>0</td>\n",
       "      <td>0</td>\n",
       "      <td>0</td>\n",
       "      <td>0.0</td>\n",
       "      <td>0</td>\n",
       "      <td>0.0</td>\n",
       "      <td>0</td>\n",
       "      <td>draw</td>\n",
       "    </tr>\n",
       "    <tr>\n",
       "      <th>9</th>\n",
       "      <td>8</td>\n",
       "      <td>10</td>\n",
       "      <td>0.375000</td>\n",
       "      <td>0.400000</td>\n",
       "      <td>33.762858</td>\n",
       "      <td>12.528144</td>\n",
       "      <td>1</td>\n",
       "      <td>3</td>\n",
       "      <td>1</td>\n",
       "      <td>7</td>\n",
       "      <td>...</td>\n",
       "      <td>0</td>\n",
       "      <td>0</td>\n",
       "      <td>0</td>\n",
       "      <td>0</td>\n",
       "      <td>0</td>\n",
       "      <td>0.0</td>\n",
       "      <td>0</td>\n",
       "      <td>0.0</td>\n",
       "      <td>0</td>\n",
       "      <td>draw</td>\n",
       "    </tr>\n",
       "    <tr>\n",
       "      <th>10</th>\n",
       "      <td>9</td>\n",
       "      <td>9</td>\n",
       "      <td>0.777778</td>\n",
       "      <td>0.111111</td>\n",
       "      <td>13.798140</td>\n",
       "      <td>22.016812</td>\n",
       "      <td>2</td>\n",
       "      <td>0</td>\n",
       "      <td>9</td>\n",
       "      <td>3</td>\n",
       "      <td>...</td>\n",
       "      <td>1</td>\n",
       "      <td>3</td>\n",
       "      <td>1</td>\n",
       "      <td>0</td>\n",
       "      <td>1</td>\n",
       "      <td>0.0</td>\n",
       "      <td>0</td>\n",
       "      <td>0.0</td>\n",
       "      <td>0</td>\n",
       "      <td>home_team</td>\n",
       "    </tr>\n",
       "  </tbody>\n",
       "</table>\n",
       "<p>11 rows × 135 columns</p>\n",
       "</div>"
      ],
      "text/plain": [
       "    total_shots_home  total_shots_away  shots_on_target_ratio_home  \\\n",
       "0                  5                13                    0.400000   \n",
       "1                 16                10                    0.312500   \n",
       "2                  6                10                    0.333333   \n",
       "3                 13                10                    0.461538   \n",
       "4                 26                10                    0.153846   \n",
       "5                  6                27                    0.000000   \n",
       "6                 12                 7                    0.250000   \n",
       "7                 11                14                    0.181818   \n",
       "8                 22                 8                    0.272727   \n",
       "9                  8                10                    0.375000   \n",
       "10                 9                 9                    0.777778   \n",
       "\n",
       "    shots_on_target_ratio_away  average_shots_on_target_distance_home  \\\n",
       "0                     0.153846                              20.462904   \n",
       "1                     0.300000                              25.239973   \n",
       "2                     0.400000                              33.431447   \n",
       "3                     0.400000                              24.394269   \n",
       "4                     0.200000                              20.432657   \n",
       "5                     0.296296                             120.000000   \n",
       "6                     0.000000                              25.685715   \n",
       "7                     0.428571                              24.736200   \n",
       "8                     0.500000                              22.581797   \n",
       "9                     0.400000                              33.762858   \n",
       "10                    0.111111                              13.798140   \n",
       "\n",
       "    average_shots_on_target_distance_away  shots_high_xG_home  \\\n",
       "0                               15.923442                   0   \n",
       "1                               18.652679                   0   \n",
       "2                               11.773407                   0   \n",
       "3                                9.439840                   2   \n",
       "4                               19.849825                   0   \n",
       "5                               21.352619                   0   \n",
       "6                              120.000000                   0   \n",
       "7                               17.236907                   0   \n",
       "8                               18.761077                   2   \n",
       "9                               12.528144                   1   \n",
       "10                              22.016812                   2   \n",
       "\n",
       "    shots_high_xG_away  shots_inside_area_home  shots_inside_area_away  ...  \\\n",
       "0                    2                       3                       5  ...   \n",
       "1                    2                       3                       6  ...   \n",
       "2                    2                       3                       7  ...   \n",
       "3                    2                       7                       8  ...   \n",
       "4                    2                      10                       8  ...   \n",
       "5                    1                       4                      12  ...   \n",
       "6                    1                       5                       4  ...   \n",
       "7                    1                       3                       7  ...   \n",
       "8                    2                      10                       7  ...   \n",
       "9                    3                       1                       7  ...   \n",
       "10                   0                       9                       3  ...   \n",
       "\n",
       "    is_valid_goals_conceded_last_match_away  goals_scored_last_match_home  \\\n",
       "0                                         0                             0   \n",
       "1                                         0                             0   \n",
       "2                                         0                             0   \n",
       "3                                         0                             0   \n",
       "4                                         0                             0   \n",
       "5                                         0                             0   \n",
       "6                                         0                             0   \n",
       "7                                         0                             0   \n",
       "8                                         0                             0   \n",
       "9                                         0                             0   \n",
       "10                                        1                             3   \n",
       "\n",
       "    is_valid_goals_scored_last_match_home  goals_scored_last_match_away  \\\n",
       "0                                       0                             0   \n",
       "1                                       0                             0   \n",
       "2                                       0                             0   \n",
       "3                                       0                             0   \n",
       "4                                       0                             0   \n",
       "5                                       0                             0   \n",
       "6                                       0                             0   \n",
       "7                                       0                             0   \n",
       "8                                       0                             0   \n",
       "9                                       0                             0   \n",
       "10                                      1                             0   \n",
       "\n",
       "    is_valid_goals_scored_last_match_away  std_shots_last_3_matches_home  \\\n",
       "0                                       0                            0.0   \n",
       "1                                       0                            0.0   \n",
       "2                                       0                            0.0   \n",
       "3                                       0                            0.0   \n",
       "4                                       0                            0.0   \n",
       "5                                       0                            0.0   \n",
       "6                                       0                            0.0   \n",
       "7                                       0                            0.0   \n",
       "8                                       0                            0.0   \n",
       "9                                       0                            0.0   \n",
       "10                                      1                            0.0   \n",
       "\n",
       "    is_valid_std_shots_last_3_matches_home  std_shots_last_3_matches_away  \\\n",
       "0                                        0                            0.0   \n",
       "1                                        0                            0.0   \n",
       "2                                        0                            0.0   \n",
       "3                                        0                            0.0   \n",
       "4                                        0                            0.0   \n",
       "5                                        0                            0.0   \n",
       "6                                        0                            0.0   \n",
       "7                                        0                            0.0   \n",
       "8                                        0                            0.0   \n",
       "9                                        0                            0.0   \n",
       "10                                       0                            0.0   \n",
       "\n",
       "    is_valid_std_shots_last_3_matches_away  winner_team  \n",
       "0                                        0    home_team  \n",
       "1                                        0         draw  \n",
       "2                                        0    away_team  \n",
       "3                                        0    away_team  \n",
       "4                                        0         draw  \n",
       "5                                        0         draw  \n",
       "6                                        0    home_team  \n",
       "7                                        0    away_team  \n",
       "8                                        0         draw  \n",
       "9                                        0         draw  \n",
       "10                                       0    home_team  \n",
       "\n",
       "[11 rows x 135 columns]"
      ]
     },
     "execution_count": 443,
     "metadata": {},
     "output_type": "execute_result"
    }
   ],
   "source": [
    "matches_processed_df.head(11)"
   ]
  },
  {
   "cell_type": "markdown",
   "metadata": {},
   "source": [
    "Como podemos ver ya tenemos todos los partidos de la competición en esa temporada procesados en la variable `matches_processed_df`. Tras esto, vamos a encargarnos de preparar los datos para poder llevar a cabo la selección características mediante el entrenamiento y la validación de unos modelos."
   ]
  },
  {
   "cell_type": "markdown",
   "metadata": {},
   "source": [
    "#### Preparación de los datos (limpieza, imputación y transformación)"
   ]
  },
  {
   "cell_type": "markdown",
   "metadata": {},
   "source": [
    "Una vez ya tenemos todos los datos de los partidos, vamos a prepararlos de manera que se puedan construir modelos de ML para la predicción de que equipo se lleva la victoria y poder analizar que características son más importantes para que el modelo llegue a la conclusión que llegue."
   ]
  },
  {
   "cell_type": "code",
   "execution_count": 444,
   "metadata": {},
   "outputs": [
    {
     "name": "stdout",
     "output_type": "stream",
     "text": [
      "Winner: away_team, Code value: 0\n",
      "Winner: draw, Code value: 1\n",
      "Winner: home_team, Code value: 2\n"
     ]
    }
   ],
   "source": [
    "from src.data_preparation import code_categorical_data_multiclass\n",
    "\n",
    "\n",
    "# separamos los datos en dos conjuntos: features (X) y target (Y)\n",
    "X = matches_processed_df.drop(columns=[\"winner_team\"])\n",
    "y = matches_processed_df[\"winner_team\"]\n",
    "\n",
    "# codificamos las variables categóricas (la única variable categórica es la objetivo 'winner_team')\n",
    "y, encoder = code_categorical_data_multiclass(y)\n",
    "# mostramos las clases originales y su correspondiente valor codificado\n",
    "for i, class_label in enumerate(encoder.classes_):\n",
    "    print(f\"Winner: {class_label}, Code value: {i}\")"
   ]
  },
  {
   "cell_type": "code",
   "execution_count": 445,
   "metadata": {},
   "outputs": [],
   "source": [
    "from src.data_preparation import divide_data_in_train_test\n",
    "\n",
    "# dividimos los datos en entrenamiento y test\n",
    "X_train, X_test, y_train, y_test = divide_data_in_train_test(X, y, test_size=0.2)"
   ]
  },
  {
   "cell_type": "markdown",
   "metadata": {},
   "source": [
    "#### Entrenamiento de modelos y evaluación de modelos"
   ]
  },
  {
   "cell_type": "markdown",
   "metadata": {},
   "source": [
    "##### RandomForest"
   ]
  },
  {
   "cell_type": "markdown",
   "metadata": {},
   "source": [
    "Establecemos el pipeline que vamos a utilizar y definimos la búsqueda de hiperparámetros."
   ]
  },
  {
   "cell_type": "code",
   "execution_count": 446,
   "metadata": {},
   "outputs": [],
   "source": [
    "from sklearn.pipeline import Pipeline\n",
    "from sklearn.ensemble import RandomForestClassifier\n",
    "\n",
    "\n",
    "# definimos un pipeline para el modelo RandomForestClassifier\n",
    "rf_pipeline = Pipeline([\n",
    "    ('classifier', RandomForestClassifier(random_state=42))\n",
    "])\n",
    "\n",
    "# definimos el espacio de búsqueda de hiperparámetros\n",
    "rf_param_grid = {\n",
    "    'classifier__n_estimators': [50, 100, 150],\n",
    "    'classifier__max_depth': [3, 5, 8, 10],\n",
    "    'classifier__min_samples_split': [2, 5, 8]\n",
    "}"
   ]
  },
  {
   "cell_type": "markdown",
   "metadata": {},
   "source": [
    "Buscamos la mejor combinación de hiperparámetros para trabajar. Una vez escogido evaluamos los datos de entrenamiento y de test."
   ]
  },
  {
   "cell_type": "code",
   "execution_count": 447,
   "metadata": {},
   "outputs": [
    {
     "name": "stdout",
     "output_type": "stream",
     "text": [
      "Fitting 5 folds for each of 36 candidates, totalling 180 fits\n",
      "Best hyperparameters: {'classifier__max_depth': 5, 'classifier__min_samples_split': 2, 'classifier__n_estimators': 50}\n"
     ]
    }
   ],
   "source": [
    "from sklearn.model_selection import GridSearchCV\n",
    "\n",
    "\n",
    "# realizamos la búsqueda de hiperparámetros\n",
    "grid_search = GridSearchCV(rf_pipeline, rf_param_grid, cv=5, scoring='accuracy', verbose=1, n_jobs=-1)\n",
    "grid_search.fit(X_train, y_train)\n",
    "\n",
    "# mejores parámetros\n",
    "print(\"Best hyperparameters:\", grid_search.best_params_)\n",
    "# mejor modelo\n",
    "rf_best_model = grid_search.best_estimator_"
   ]
  },
  {
   "cell_type": "code",
   "execution_count": 448,
   "metadata": {},
   "outputs": [
    {
     "name": "stdout",
     "output_type": "stream",
     "text": [
      "Train Accuracy: 0.9211\n",
      "Test Accuracy: 0.5526\n"
     ]
    }
   ],
   "source": [
    "# evaluación en el conjunto de entrenamiento y prueba\n",
    "train_accuracy = rf_best_model.score(X_train, y_train)\n",
    "print(f\"Train Accuracy: {train_accuracy:.4f}\")\n",
    "test_accuracy = rf_best_model.score(X_test, y_test)\n",
    "print(f\"Test Accuracy: {test_accuracy:.4f}\")"
   ]
  },
  {
   "cell_type": "markdown",
   "metadata": {},
   "source": [
    "Realizamos una validación cruzada."
   ]
  },
  {
   "cell_type": "code",
   "execution_count": 449,
   "metadata": {},
   "outputs": [
    {
     "name": "stdout",
     "output_type": "stream",
     "text": [
      "Cross-Validation Accuracy: 0.6285 +/- 0.0489\n"
     ]
    }
   ],
   "source": [
    "from sklearn.model_selection import cross_val_score\n",
    "\n",
    "# validación cruzada con el mejor modelo\n",
    "cv_scores = cross_val_score(rf_best_model, X_train, y_train, cv=5, scoring='accuracy')\n",
    "print(f\"Cross-Validation Accuracy: {cv_scores.mean():.4f} +/- {cv_scores.std():.4f}\")"
   ]
  },
  {
   "cell_type": "markdown",
   "metadata": {},
   "source": [
    "Realizamos una matriz de confusión y vemos todas la métricas (precision, accuracy, f1_score...) para averiguar donde falla más nuestro modelo."
   ]
  },
  {
   "cell_type": "code",
   "execution_count": 450,
   "metadata": {},
   "outputs": [
    {
     "data": {
      "image/png": "[encoded data removed]",
      "text/plain": [
       "<Figure size 800x600 with 2 Axes>"
      ]
     },
     "metadata": {},
     "output_type": "display_data"
    }
   ],
   "source": [
    "from sklearn.metrics import confusion_matrix\n",
    "import matplotlib.pyplot as plt\n",
    "import seaborn as sns\n",
    "\n",
    "\n",
    "# predicciones en el conjunto de prueba\n",
    "y_pred = rf_best_model.predict(X_test)\n",
    "\n",
    "# matriz de confusión\n",
    "conf_matrix = confusion_matrix(y_test, y_pred)\n",
    "plt.figure(figsize=(8, 6))\n",
    "sns.heatmap(conf_matrix, annot=True, fmt='d', cmap='Blues', xticklabels=encoder.classes_, yticklabels=encoder.classes_)\n",
    "plt.xlabel('Predicted label')\n",
    "plt.ylabel('True label')\n",
    "plt.title('Confusion Matriz - RandomForest')\n",
    "plt.show()"
   ]
  },
  {
   "cell_type": "code",
   "execution_count": 451,
   "metadata": {},
   "outputs": [
    {
     "name": "stdout",
     "output_type": "stream",
     "text": [
      "              precision    recall  f1-score   support\n",
      "\n",
      "           0       0.47      0.33      0.39        21\n",
      "           1       0.25      0.06      0.09        18\n",
      "           2       0.60      0.92      0.72        37\n",
      "\n",
      "    accuracy                           0.55        76\n",
      "   macro avg       0.44      0.44      0.40        76\n",
      "weighted avg       0.48      0.55      0.48        76\n",
      "\n"
     ]
    }
   ],
   "source": [
    "from sklearn.metrics import classification_report\n",
    "\n",
    "# reporte de clasificación\n",
    "print(classification_report(y_test, y_pred))"
   ]
  },
  {
   "cell_type": "markdown",
   "metadata": {},
   "source": [
    "Obtenemos la importancia de cada una de las características."
   ]
  },
  {
   "cell_type": "code",
   "execution_count": 452,
   "metadata": {},
   "outputs": [
    {
     "name": "stdout",
     "output_type": "stream",
     "text": [
      "Importance of features:\n",
      "                                   Feature  Importance\n",
      "2               shots_on_target_ratio_home    0.055509\n",
      "6                       shots_high_xG_home    0.052614\n",
      "100   set_piece_shots_on_target_ratio_home    0.041388\n",
      "7                       shots_high_xG_away    0.036707\n",
      "4    average_shots_on_target_distance_home    0.036555\n",
      "3               shots_on_target_ratio_away    0.032793\n",
      "101   set_piece_shots_on_target_ratio_away    0.023786\n",
      "9                   shots_inside_area_away    0.021257\n",
      "76                       dispossessed_home    0.019780\n",
      "54                        miscontrols_home    0.017617\n"
     ]
    }
   ],
   "source": [
    "# importancia de características\n",
    "feature_importances = pd.DataFrame({\n",
    "    'Feature': X.columns,\n",
    "    'Importance': rf_best_model.named_steps['classifier'].feature_importances_\n",
    "}).sort_values(by='Importance', ascending=False)\n",
    "\n",
    "print(\"Importance of features:\")\n",
    "print(feature_importances.head(10))"
   ]
  },
  {
   "cell_type": "markdown",
   "metadata": {},
   "source": [
    "Reducimos los datos, utilizando las características más importantes y replicamos el proceso anterior para ver si mejora el modelo."
   ]
  },
  {
   "cell_type": "code",
   "execution_count": 453,
   "metadata": {},
   "outputs": [],
   "source": [
    "# filtramos la características con importancia mayor a un umbral\n",
    "important_features = feature_importances[feature_importances['Importance'] > 0.005]['Feature']\n",
    "X_reduced = X[important_features]\n",
    "\n",
    "# dividimos los datos reducidos en entrenamiento y prueba\n",
    "X_train_reduced, X_test_reduced, y_train, y_test = divide_data_in_train_test(X_reduced, y, test_size=0.2)"
   ]
  },
  {
   "cell_type": "code",
   "execution_count": 454,
   "metadata": {},
   "outputs": [
    {
     "name": "stdout",
     "output_type": "stream",
     "text": [
      "Fitting 5 folds for each of 36 candidates, totalling 180 fits\n",
      "Best hyperparameters: {'classifier__max_depth': 10, 'classifier__min_samples_split': 5, 'classifier__n_estimators': 150}\n",
      "Train Accuracy (Reduced): 0.9967\n",
      "Test Accuracy (Reduced): 0.6711\n",
      "Cross-Validation Accuracy (Reduced): 0.6285 +/- 0.0570\n"
     ]
    }
   ],
   "source": [
    "# entrenamos el modelo con las características reducidas\n",
    "grid_search.fit(X_train_reduced, y_train)\n",
    "# mejores parámetros\n",
    "print(\"Best hyperparameters:\", grid_search.best_params_)\n",
    "# mejor modelo reducido\n",
    "rf_best_model_reduced = grid_search.best_estimator_\n",
    "\n",
    "# evaluamos el modelo\n",
    "train_accuracy_reduced = rf_best_model_reduced.score(X_train_reduced, y_train)\n",
    "print(f\"Train Accuracy (Reduced): {train_accuracy_reduced:.4f}\")\n",
    "test_accuracy_reduced = rf_best_model_reduced.score(X_test_reduced, y_test)\n",
    "print(f\"Test Accuracy (Reduced): {test_accuracy_reduced:.4f}\")\n",
    "\n",
    "# validación cruzada\n",
    "cv_scores_reduced = cross_val_score(rf_best_model_reduced, X_train_reduced, y_train, cv=5, scoring='accuracy')\n",
    "print(f\"Cross-Validation Accuracy (Reduced): {cv_scores_reduced.mean():.4f} +/- {cv_scores_reduced.std():.4f}\")"
   ]
  },
  {
   "cell_type": "code",
   "execution_count": 455,
   "metadata": {},
   "outputs": [
    {
     "data": {
      "image/png": "[encoded data removed]",
      "text/plain": [
       "<Figure size 800x600 with 2 Axes>"
      ]
     },
     "metadata": {},
     "output_type": "display_data"
    }
   ],
   "source": [
    "# predicciones en el conjunto de prueba\n",
    "y_pred_reduced = rf_best_model_reduced.predict(X_test_reduced)\n",
    "\n",
    "# matriz de confusión\n",
    "conf_matrix = confusion_matrix(y_test, y_pred_reduced)\n",
    "plt.figure(figsize=(8, 6))\n",
    "sns.heatmap(conf_matrix, annot=True, fmt='d', cmap='Blues', xticklabels=encoder.classes_, yticklabels=encoder.classes_)\n",
    "plt.xlabel('Predicted label')\n",
    "plt.ylabel('True label')\n",
    "plt.title('Confusion Matriz - RandomForest')\n",
    "plt.show()"
   ]
  },
  {
   "cell_type": "code",
   "execution_count": 456,
   "metadata": {},
   "outputs": [
    {
     "name": "stdout",
     "output_type": "stream",
     "text": [
      "              precision    recall  f1-score   support\n",
      "\n",
      "           0       0.72      0.62      0.67        21\n",
      "           1       0.60      0.17      0.26        18\n",
      "           2       0.66      0.95      0.78        37\n",
      "\n",
      "    accuracy                           0.67        76\n",
      "   macro avg       0.66      0.58      0.57        76\n",
      "weighted avg       0.66      0.67      0.62        76\n",
      "\n"
     ]
    }
   ],
   "source": [
    "# reporte de clasificación\n",
    "print(classification_report(y_test, y_pred_reduced))"
   ]
  },
  {
   "cell_type": "markdown",
   "metadata": {},
   "source": [
    "##### DecisionTree"
   ]
  },
  {
   "cell_type": "markdown",
   "metadata": {},
   "source": [
    "Establecemos el pipeline que vamos a utilizar y definimos la búsqueda de hiperparámetros."
   ]
  },
  {
   "cell_type": "code",
   "execution_count": 457,
   "metadata": {},
   "outputs": [],
   "source": [
    "from sklearn.pipeline import Pipeline\n",
    "from sklearn.tree import DecisionTreeClassifier\n",
    "\n",
    "\n",
    "# definimos un pipeline para el modelo DecisionTreeClassifier\n",
    "dt_pipeline = Pipeline([\n",
    "    ('classifier', DecisionTreeClassifier(random_state=42))\n",
    "])\n",
    "\n",
    "# definimos el espacio de búsqueda de hiperparámetros\n",
    "dt_param_grid = {\n",
    "    'classifier__max_depth': [3, 5, 8, 10],\n",
    "    'classifier__min_samples_split': [2, 5, 8],\n",
    "    'classifier__min_samples_leaf': [1, 2, 4]\n",
    "}"
   ]
  },
  {
   "cell_type": "markdown",
   "metadata": {},
   "source": [
    "Buscamos la mejor combinación de hiperparámetros para trabajar. Una vez escogido evaluamos los datos de entrenamiento y de test."
   ]
  },
  {
   "cell_type": "code",
   "execution_count": 458,
   "metadata": {},
   "outputs": [
    {
     "name": "stdout",
     "output_type": "stream",
     "text": [
      "Fitting 5 folds for each of 36 candidates, totalling 180 fits\n",
      "Best hyperparameters: {'classifier__max_depth': 3, 'classifier__min_samples_leaf': 4, 'classifier__min_samples_split': 2}\n"
     ]
    }
   ],
   "source": [
    "from sklearn.model_selection import GridSearchCV\n",
    "\n",
    "\n",
    "# realizamos la búsqueda de hiperparámetros\n",
    "grid_search = GridSearchCV(dt_pipeline, dt_param_grid, cv=5, scoring='accuracy', verbose=1, n_jobs=-1)\n",
    "grid_search.fit(X_train, y_train)\n",
    "\n",
    "# mejores parámetros\n",
    "print(\"Best hyperparameters:\", grid_search.best_params_)\n",
    "# mejor modelo\n",
    "dt_best_model = grid_search.best_estimator_"
   ]
  },
  {
   "cell_type": "code",
   "execution_count": 459,
   "metadata": {},
   "outputs": [
    {
     "name": "stdout",
     "output_type": "stream",
     "text": [
      "Train Accuracy: 0.6480\n",
      "Test Accuracy: 0.4605\n"
     ]
    }
   ],
   "source": [
    "# evaluación en el conjunto de entrenamiento y prueba\n",
    "train_accuracy = dt_best_model.score(X_train, y_train)\n",
    "print(f\"Train Accuracy: {train_accuracy:.4f}\")\n",
    "test_accuracy = dt_best_model.score(X_test, y_test)\n",
    "print(f\"Test Accuracy: {test_accuracy:.4f}\")"
   ]
  },
  {
   "cell_type": "markdown",
   "metadata": {},
   "source": [
    "Realizamos una validación cruzada."
   ]
  },
  {
   "cell_type": "code",
   "execution_count": 460,
   "metadata": {},
   "outputs": [
    {
     "name": "stdout",
     "output_type": "stream",
     "text": [
      "Cross-Validation Accuracy: 0.5133 +/- 0.0520\n"
     ]
    }
   ],
   "source": [
    "from sklearn.model_selection import cross_val_score\n",
    "\n",
    "# validación cruzada con el mejor modelo\n",
    "cv_scores = cross_val_score(dt_best_model, X_train, y_train, cv=5, scoring='accuracy')\n",
    "print(f\"Cross-Validation Accuracy: {cv_scores.mean():.4f} +/- {cv_scores.std():.4f}\")"
   ]
  },
  {
   "cell_type": "markdown",
   "metadata": {},
   "source": [
    "Realizamos una matriz de confusión y vemos todas la métricas (precision, accuracy, f1_score...) para averiguar donde falla más nuestro modelo."
   ]
  },
  {
   "cell_type": "code",
   "execution_count": 461,
   "metadata": {},
   "outputs": [
    {
     "data": {
      "image/png": "[encoded data removed]",
      "text/plain": [
       "<Figure size 800x600 with 2 Axes>"
      ]
     },
     "metadata": {},
     "output_type": "display_data"
    }
   ],
   "source": [
    "from sklearn.metrics import confusion_matrix\n",
    "import matplotlib.pyplot as plt\n",
    "import seaborn as sns\n",
    "\n",
    "\n",
    "# predicciones en el conjunto de prueba\n",
    "y_pred = dt_best_model.predict(X_test)\n",
    "\n",
    "# matriz de confusión\n",
    "conf_matrix = confusion_matrix(y_test, y_pred)\n",
    "plt.figure(figsize=(8, 6))\n",
    "sns.heatmap(conf_matrix, annot=True, fmt='d', cmap='Blues', xticklabels=encoder.classes_, yticklabels=encoder.classes_)\n",
    "plt.xlabel('Predicted label')\n",
    "plt.ylabel('True label')\n",
    "plt.title('Confusion Matrix - DecisionTree')\n",
    "plt.show()"
   ]
  },
  {
   "cell_type": "code",
   "execution_count": 462,
   "metadata": {},
   "outputs": [
    {
     "name": "stdout",
     "output_type": "stream",
     "text": [
      "              precision    recall  f1-score   support\n",
      "\n",
      "           0       0.40      0.29      0.33        21\n",
      "           1       0.23      0.28      0.25        18\n",
      "           2       0.62      0.65      0.63        37\n",
      "\n",
      "    accuracy                           0.46        76\n",
      "   macro avg       0.41      0.40      0.40        76\n",
      "weighted avg       0.46      0.46      0.46        76\n",
      "\n"
     ]
    }
   ],
   "source": [
    "from sklearn.metrics import classification_report\n",
    "\n",
    "# reporte de clasificación\n",
    "print(classification_report(y_test, y_pred))"
   ]
  },
  {
   "cell_type": "markdown",
   "metadata": {},
   "source": [
    "Obtenemos la importancia de cada una de las características."
   ]
  },
  {
   "cell_type": "code",
   "execution_count": 463,
   "metadata": {},
   "outputs": [
    {
     "name": "stdout",
     "output_type": "stream",
     "text": [
      "Importance of features:\n",
      "                                 Feature  Importance\n",
      "4  average_shots_on_target_distance_home    0.372705\n",
      "2             shots_on_target_ratio_home    0.266392\n",
      "3             shots_on_target_ratio_away    0.216241\n",
      "7                     shots_high_xG_away    0.144662\n",
      "1                       total_shots_away    0.000000\n",
      "0                       total_shots_home    0.000000\n",
      "5  average_shots_on_target_distance_away    0.000000\n",
      "6                     shots_high_xG_home    0.000000\n",
      "8                 shots_inside_area_home    0.000000\n",
      "9                 shots_inside_area_away    0.000000\n"
     ]
    }
   ],
   "source": [
    "# importancia de características\n",
    "feature_importances = pd.DataFrame({\n",
    "    'Feature': X.columns,\n",
    "    'Importance': dt_best_model.named_steps['classifier'].feature_importances_\n",
    "}).sort_values(by='Importance', ascending=False)\n",
    "\n",
    "print(\"Importance of features:\")\n",
    "print(feature_importances.head(10))"
   ]
  },
  {
   "cell_type": "markdown",
   "metadata": {},
   "source": [
    "Reducimos los datos, utilizando las características más importantes y replicamos el proceso anterior para ver si mejora el modelo."
   ]
  },
  {
   "cell_type": "code",
   "execution_count": 464,
   "metadata": {},
   "outputs": [],
   "source": [
    "# filtramos las características con importancia mayor a un umbral\n",
    "important_features = feature_importances[feature_importances['Importance'] > 0.005]['Feature']\n",
    "X_reduced = X[important_features]\n",
    "\n",
    "# dividimos los datos reducidos en entrenamiento y prueba\n",
    "X_train_reduced, X_test_reduced, y_train, y_test = divide_data_in_train_test(X_reduced, y, test_size=0.2)"
   ]
  },
  {
   "cell_type": "code",
   "execution_count": 465,
   "metadata": {},
   "outputs": [
    {
     "name": "stdout",
     "output_type": "stream",
     "text": [
      "Fitting 5 folds for each of 36 candidates, totalling 180 fits\n",
      "Best hyperparameters: {'classifier__max_depth': 5, 'classifier__min_samples_leaf': 1, 'classifier__min_samples_split': 2}\n",
      "Train Accuracy (Reduced): 0.7237\n",
      "Test Accuracy (Reduced): 0.5789\n",
      "Cross-Validation Accuracy (Reduced): 0.5627 +/- 0.0500\n"
     ]
    }
   ],
   "source": [
    "# entrenamos el modelo con las características reducidas\n",
    "grid_search.fit(X_train_reduced, y_train)\n",
    "# mejores parámetros\n",
    "print(\"Best hyperparameters:\", grid_search.best_params_)\n",
    "# mejor modelo reducido\n",
    "dt_best_model_reduced = grid_search.best_estimator_\n",
    "\n",
    "# evaluación del modelo reducido\n",
    "train_accuracy_reduced = dt_best_model_reduced.score(X_train_reduced, y_train)\n",
    "print(f\"Train Accuracy (Reduced): {train_accuracy_reduced:.4f}\")\n",
    "test_accuracy_reduced = dt_best_model_reduced.score(X_test_reduced, y_test)\n",
    "print(f\"Test Accuracy (Reduced): {test_accuracy_reduced:.4f}\")\n",
    "\n",
    "# validación cruzada con el modelo reducido\n",
    "cv_scores_reduced = cross_val_score(dt_best_model_reduced, X_train_reduced, y_train, cv=5, scoring='accuracy')\n",
    "print(f\"Cross-Validation Accuracy (Reduced): {cv_scores_reduced.mean():.4f} +/- {cv_scores_reduced.std():.4f}\")"
   ]
  },
  {
   "cell_type": "code",
   "execution_count": 466,
   "metadata": {},
   "outputs": [
    {
     "data": {
      "image/png": "[encoded data removed]",
      "text/plain": [
       "<Figure size 800x600 with 2 Axes>"
      ]
     },
     "metadata": {},
     "output_type": "display_data"
    }
   ],
   "source": [
    "# predicciones en el conjunto de prueba reducido\n",
    "y_pred_reduced = dt_best_model_reduced.predict(X_test_reduced)\n",
    "\n",
    "# matriz de confusión para modelo reducido\n",
    "conf_matrix = confusion_matrix(y_test, y_pred_reduced)\n",
    "plt.figure(figsize=(8, 6))\n",
    "sns.heatmap(conf_matrix, annot=True, fmt='d', cmap='Blues', xticklabels=encoder.classes_, yticklabels=encoder.classes_)\n",
    "plt.xlabel('Predicted label')\n",
    "plt.ylabel('True label')\n",
    "plt.title('Confusion Matrix - DecisionTree Reduced')\n",
    "plt.show()"
   ]
  },
  {
   "cell_type": "code",
   "execution_count": 467,
   "metadata": {},
   "outputs": [
    {
     "name": "stdout",
     "output_type": "stream",
     "text": [
      "              precision    recall  f1-score   support\n",
      "\n",
      "           0       0.58      0.71      0.64        21\n",
      "           1       0.27      0.17      0.21        18\n",
      "           2       0.67      0.70      0.68        37\n",
      "\n",
      "    accuracy                           0.58        76\n",
      "   macro avg       0.51      0.53      0.51        76\n",
      "weighted avg       0.55      0.58      0.56        76\n",
      "\n"
     ]
    }
   ],
   "source": [
    "# reporte de clasificación para modelo reducido\n",
    "print(classification_report(y_test, y_pred_reduced))"
   ]
  },
  {
   "cell_type": "markdown",
   "metadata": {},
   "source": [
    "##### LogisticRegression"
   ]
  },
  {
   "cell_type": "markdown",
   "metadata": {},
   "source": [
    "Establecemos el pipeline que vamos a utilizar y definimos la búsqueda de hiperparámetros."
   ]
  },
  {
   "cell_type": "code",
   "execution_count": 468,
   "metadata": {},
   "outputs": [],
   "source": [
    "from sklearn.pipeline import Pipeline\n",
    "from sklearn.linear_model import LogisticRegression\n",
    "from sklearn.preprocessing import StandardScaler\n",
    "\n",
    "\n",
    "# definimos un pipeline para el modelo LogisticRegression con StandardScaler\n",
    "lr_pipeline = Pipeline([\n",
    "    ('scaler', StandardScaler()),\n",
    "    ('classifier', LogisticRegression(random_state=42, max_iter=1000))\n",
    "])\n",
    "\n",
    "# definimos el espacio de búsqueda de hiperparámetros\n",
    "lr_param_grid = [\n",
    "    {'classifier__penalty': ['l1'], 'classifier__solver': ['liblinear', 'saga'], 'classifier__C': [0.01, 0.1, 1, 10, 100]},\n",
    "    {'classifier__penalty': ['l2'], 'classifier__solver': ['lbfgs', 'liblinear', 'saga', 'newton-cg'], 'classifier__C': [0.01, 0.1, 1, 10, 100]},\n",
    "    {'classifier__penalty': ['elasticnet'], 'classifier__solver': ['saga'], 'classifier__C': [0.01, 0.1, 1, 10, 100], 'classifier__l1_ratio': [0.1, 0.5, 0.9]},\n",
    "    {'classifier__penalty': [None], 'classifier__solver': ['lbfgs', 'saga', 'newton-cg']}\n",
    "]"
   ]
  },
  {
   "cell_type": "markdown",
   "metadata": {},
   "source": [
    "Buscamos la mejor combinación de hiperparámetros para trabajar. Una vez escogido evaluamos los datos de entrenamiento y de test."
   ]
  },
  {
   "cell_type": "code",
   "execution_count": 469,
   "metadata": {},
   "outputs": [
    {
     "name": "stdout",
     "output_type": "stream",
     "text": [
      "Fitting 5 folds for each of 48 candidates, totalling 240 fits\n",
      "Best hyperparameters: {'classifier__C': 0.01, 'classifier__penalty': 'l2', 'classifier__solver': 'liblinear'}\n"
     ]
    }
   ],
   "source": [
    "from sklearn.model_selection import GridSearchCV\n",
    "\n",
    "\n",
    "# realizamos la búsqueda de hiperparámetros\n",
    "grid_search = GridSearchCV(lr_pipeline, lr_param_grid, cv=5, scoring='accuracy', verbose=1, n_jobs=-1)\n",
    "grid_search.fit(X_train, y_train)\n",
    "\n",
    "# mejores parámetros\n",
    "print(\"Best hyperparameters:\", grid_search.best_params_)\n",
    "# mejor modelo\n",
    "lr_best_model = grid_search.best_estimator_"
   ]
  },
  {
   "cell_type": "code",
   "execution_count": 470,
   "metadata": {},
   "outputs": [
    {
     "name": "stdout",
     "output_type": "stream",
     "text": [
      "Train Accuracy: 0.7961\n",
      "Test Accuracy: 0.6184\n"
     ]
    }
   ],
   "source": [
    "# evaluación en el conjunto de entrenamiento y prueba\n",
    "train_accuracy = lr_best_model.score(X_train, y_train)\n",
    "print(f\"Train Accuracy: {train_accuracy:.4f}\")\n",
    "test_accuracy = lr_best_model.score(X_test, y_test)\n",
    "print(f\"Test Accuracy: {test_accuracy:.4f}\")"
   ]
  },
  {
   "cell_type": "markdown",
   "metadata": {},
   "source": [
    "Realizamos una validación cruzada."
   ]
  },
  {
   "cell_type": "code",
   "execution_count": 471,
   "metadata": {},
   "outputs": [
    {
     "name": "stdout",
     "output_type": "stream",
     "text": [
      "Cross-Validation Accuracy: 0.6580 +/- 0.0535\n"
     ]
    }
   ],
   "source": [
    "from sklearn.model_selection import cross_val_score\n",
    "\n",
    "# validación cruzada con el mejor modelo\n",
    "cv_scores = cross_val_score(lr_best_model, X_train, y_train, cv=5, scoring='accuracy')\n",
    "print(f\"Cross-Validation Accuracy: {cv_scores.mean():.4f} +/- {cv_scores.std():.4f}\")"
   ]
  },
  {
   "cell_type": "markdown",
   "metadata": {},
   "source": [
    "Realizamos una matriz de confusión y vemos todas la métricas (precision, accuracy, f1_score...) para averiguar donde falla más nuestro modelo."
   ]
  },
  {
   "cell_type": "code",
   "execution_count": 472,
   "metadata": {},
   "outputs": [
    {
     "data": {
      "image/png": "[encoded data removed]",
      "text/plain": [
       "<Figure size 800x600 with 2 Axes>"
      ]
     },
     "metadata": {},
     "output_type": "display_data"
    }
   ],
   "source": [
    "from sklearn.metrics import confusion_matrix\n",
    "import matplotlib.pyplot as plt\n",
    "import seaborn as sns\n",
    "\n",
    "\n",
    "# predicciones en el conjunto de prueba\n",
    "y_pred = lr_best_model.predict(X_test)\n",
    "\n",
    "# matriz de confusión\n",
    "conf_matrix = confusion_matrix(y_test, y_pred)\n",
    "plt.figure(figsize=(8, 6))\n",
    "sns.heatmap(conf_matrix, annot=True, fmt='d', cmap='Blues', xticklabels=encoder.classes_, yticklabels=encoder.classes_)\n",
    "plt.xlabel('Predicted label')\n",
    "plt.ylabel('True label')\n",
    "plt.title('Confusion Matrix - Logistic Regression')\n",
    "plt.show()"
   ]
  },
  {
   "cell_type": "code",
   "execution_count": 473,
   "metadata": {},
   "outputs": [
    {
     "name": "stdout",
     "output_type": "stream",
     "text": [
      "              precision    recall  f1-score   support\n",
      "\n",
      "           0       0.59      0.76      0.67        21\n",
      "           1       0.25      0.17      0.20        18\n",
      "           2       0.76      0.76      0.76        37\n",
      "\n",
      "    accuracy                           0.62        76\n",
      "   macro avg       0.53      0.56      0.54        76\n",
      "weighted avg       0.59      0.62      0.60        76\n",
      "\n"
     ]
    }
   ],
   "source": [
    "from sklearn.metrics import classification_report\n",
    "\n",
    "# reporte de clasificación\n",
    "print(classification_report(y_test, y_pred))"
   ]
  },
  {
   "cell_type": "markdown",
   "metadata": {},
   "source": [
    "Obtenemos la importancia de cada una de las características."
   ]
  },
  {
   "cell_type": "code",
   "execution_count": 474,
   "metadata": {},
   "outputs": [
    {
     "name": "stdout",
     "output_type": "stream",
     "text": [
      "Importance of features:\n",
      "                                   Feature  Coefficient\n",
      "7                       shots_high_xG_away     0.195815\n",
      "3               shots_on_target_ratio_away     0.130285\n",
      "49                         clearances_away     0.113499\n",
      "13                         shots_foot_away     0.106596\n",
      "37                             blocks_away     0.106087\n",
      "4    average_shots_on_target_distance_home     0.098053\n",
      "128           goals_scored_last_match_away     0.096936\n",
      "50                 penaltys_committed_home     0.095862\n",
      "41                            tackles_away     0.093053\n",
      "39                          duels_won_away     0.090584\n"
     ]
    }
   ],
   "source": [
    "# coeficientes del modelo\n",
    "feature_importances = pd.DataFrame({\n",
    "    'Feature': X.columns,\n",
    "    'Coefficient': lr_best_model.named_steps['classifier'].coef_[0]\n",
    "}).sort_values(by='Coefficient', ascending=False)\n",
    "\n",
    "print(\"Importance of features:\")\n",
    "print(feature_importances.head(10))"
   ]
  },
  {
   "cell_type": "markdown",
   "metadata": {},
   "source": [
    "Reducimos los datos, utilizando las características más importantes y replicamos el proceso anterior para ver si mejora el modelo."
   ]
  },
  {
   "cell_type": "code",
   "execution_count": 475,
   "metadata": {},
   "outputs": [],
   "source": [
    "# filtramos las características con coeficientes mayores a un umbral\n",
    "important_features = feature_importances[feature_importances['Coefficient'].abs() > 0.001]['Feature']\n",
    "X_reduced = X[important_features]\n",
    "\n",
    "# dividimos los datos reducidos en entrenamiento y prueba\n",
    "X_train_reduced, X_test_reduced, y_train, y_test = divide_data_in_train_test(X_reduced, y, test_size=0.2)"
   ]
  },
  {
   "cell_type": "code",
   "execution_count": 476,
   "metadata": {},
   "outputs": [
    {
     "name": "stdout",
     "output_type": "stream",
     "text": [
      "Fitting 5 folds for each of 48 candidates, totalling 240 fits\n",
      "Best hyperparameters: {'classifier__C': 0.01, 'classifier__penalty': 'l2', 'classifier__solver': 'liblinear'}\n",
      "Train Accuracy (Reduced): 0.7895\n",
      "Test Accuracy (Reduced): 0.6053\n",
      "Cross-Validation Accuracy (Reduced): 0.6679 +/- 0.0603\n"
     ]
    }
   ],
   "source": [
    "# entrenamos el modelo con las características reducidas\n",
    "grid_search.fit(X_train_reduced, y_train)\n",
    "# mejores parámetros\n",
    "print(\"Best hyperparameters:\", grid_search.best_params_)\n",
    "# mejor modelo reducido\n",
    "lr_best_model_reduced = grid_search.best_estimator_\n",
    "\n",
    "# evaluación del modelo reducido\n",
    "train_accuracy_reduced = lr_best_model_reduced.score(X_train_reduced, y_train)\n",
    "print(f\"Train Accuracy (Reduced): {train_accuracy_reduced:.4f}\")\n",
    "test_accuracy_reduced = lr_best_model_reduced.score(X_test_reduced, y_test)\n",
    "print(f\"Test Accuracy (Reduced): {test_accuracy_reduced:.4f}\")\n",
    "\n",
    "# validación cruzada con el modelo reducido\n",
    "cv_scores_reduced = cross_val_score(lr_best_model_reduced, X_train_reduced, y_train, cv=5, scoring='accuracy')\n",
    "print(f\"Cross-Validation Accuracy (Reduced): {cv_scores_reduced.mean():.4f} +/- {cv_scores_reduced.std():.4f}\")"
   ]
  },
  {
   "cell_type": "code",
   "execution_count": 477,
   "metadata": {},
   "outputs": [
    {
     "data": {
      "image/png": "[encoded data removed]",
      "text/plain": [
       "<Figure size 800x600 with 2 Axes>"
      ]
     },
     "metadata": {},
     "output_type": "display_data"
    }
   ],
   "source": [
    "# predicciones en el conjunto de prueba reducido\n",
    "y_pred_reduced = lr_best_model_reduced.predict(X_test_reduced)\n",
    "\n",
    "# matriz de confusión para modelo reducido\n",
    "conf_matrix = confusion_matrix(y_test, y_pred_reduced)\n",
    "plt.figure(figsize=(8, 6))\n",
    "sns.heatmap(conf_matrix, annot=True, fmt='d', cmap='Blues', xticklabels=encoder.classes_, yticklabels=encoder.classes_)\n",
    "plt.xlabel('Predicted label')\n",
    "plt.ylabel('True label')\n",
    "plt.title('Confusion Matrix - Logistic Regression Reduced')\n",
    "plt.show()"
   ]
  },
  {
   "cell_type": "code",
   "execution_count": 478,
   "metadata": {},
   "outputs": [
    {
     "name": "stdout",
     "output_type": "stream",
     "text": [
      "              precision    recall  f1-score   support\n",
      "\n",
      "           0       0.58      0.71      0.64        21\n",
      "           1       0.23      0.17      0.19        18\n",
      "           2       0.76      0.76      0.76        37\n",
      "\n",
      "    accuracy                           0.61        76\n",
      "   macro avg       0.52      0.55      0.53        76\n",
      "weighted avg       0.58      0.61      0.59        76\n",
      "\n"
     ]
    }
   ],
   "source": [
    "# reporte de clasificación para modelo reducido\n",
    "print(classification_report(y_test, y_pred_reduced))"
   ]
  },
  {
   "cell_type": "markdown",
   "metadata": {},
   "source": [
    "##### kNN"
   ]
  },
  {
   "cell_type": "markdown",
   "metadata": {},
   "source": [
    "Establecemos el pipeline que vamos a utilizar y definimos la búsqueda de hiperparámetros."
   ]
  },
  {
   "cell_type": "code",
   "execution_count": 479,
   "metadata": {},
   "outputs": [],
   "source": [
    "from sklearn.pipeline import Pipeline\n",
    "from sklearn.preprocessing import MinMaxScaler\n",
    "from sklearn.neighbors import KNeighborsClassifier\n",
    "\n",
    "\n",
    "# definimos un pipeline para el modelo KNeighborsClassifier con StandardScaler\n",
    "knn_pipeline = Pipeline([\n",
    "    ('scaler', MinMaxScaler()),\n",
    "    ('classifier', KNeighborsClassifier())\n",
    "])\n",
    "\n",
    "# definimos el espacio de búsqueda de hiperparámetros\n",
    "knn_param_grid = {\n",
    "    'classifier__n_neighbors': [3, 5, 7, 9],\n",
    "    'classifier__weights': ['uniform', 'distance'],\n",
    "    'classifier__metric': ['euclidean', 'manhattan', 'minkowski']\n",
    "}"
   ]
  },
  {
   "cell_type": "markdown",
   "metadata": {},
   "source": [
    "Buscamos la mejor combinación de hiperparámetros para trabajar. Una vez escogido evaluamos los datos de entrenamiento y de test."
   ]
  },
  {
   "cell_type": "code",
   "execution_count": 480,
   "metadata": {},
   "outputs": [
    {
     "name": "stdout",
     "output_type": "stream",
     "text": [
      "Fitting 5 folds for each of 24 candidates, totalling 120 fits\n",
      "Best hyperparameters: {'classifier__metric': 'manhattan', 'classifier__n_neighbors': 9, 'classifier__weights': 'distance'}\n"
     ]
    }
   ],
   "source": [
    "from sklearn.model_selection import GridSearchCV\n",
    "\n",
    "\n",
    "# realizamos la búsqueda de hiperparámetros\n",
    "grid_search = GridSearchCV(knn_pipeline, knn_param_grid, cv=5, scoring='accuracy', verbose=1, n_jobs=-1)\n",
    "grid_search.fit(X_train, y_train)\n",
    "\n",
    "# mejores parámetros\n",
    "print(\"Best hyperparameters:\", grid_search.best_params_)\n",
    "# mejor modelo\n",
    "knn_best_model = grid_search.best_estimator_"
   ]
  },
  {
   "cell_type": "code",
   "execution_count": 481,
   "metadata": {},
   "outputs": [
    {
     "name": "stdout",
     "output_type": "stream",
     "text": [
      "Train Accuracy: 1.0000\n",
      "Test Accuracy: 0.5526\n"
     ]
    }
   ],
   "source": [
    "# evaluación en el conjunto de entrenamiento y prueba\n",
    "train_accuracy = knn_best_model.score(X_train, y_train)\n",
    "print(f\"Train Accuracy: {train_accuracy:.4f}\")\n",
    "test_accuracy = knn_best_model.score(X_test, y_test)\n",
    "print(f\"Test Accuracy: {test_accuracy:.4f}\")"
   ]
  },
  {
   "cell_type": "markdown",
   "metadata": {},
   "source": [
    "Realizamos una validación cruzada."
   ]
  },
  {
   "cell_type": "code",
   "execution_count": 482,
   "metadata": {},
   "outputs": [
    {
     "name": "stdout",
     "output_type": "stream",
     "text": [
      "Cross-Validation Accuracy: 0.5497 +/- 0.0649\n"
     ]
    }
   ],
   "source": [
    "# validación cruzada con el mejor modelo\n",
    "cv_scores = cross_val_score(knn_best_model, X_train, y_train, cv=5, scoring='accuracy')\n",
    "print(f\"Cross-Validation Accuracy: {cv_scores.mean():.4f} +/- {cv_scores.std():.4f}\")"
   ]
  },
  {
   "cell_type": "markdown",
   "metadata": {},
   "source": [
    "Realizamos una matriz de confusión y vemos todas la métricas (precision, accuracy, f1_score...) para averiguar donde falla más nuestro modelo."
   ]
  },
  {
   "cell_type": "code",
   "execution_count": 483,
   "metadata": {},
   "outputs": [
    {
     "data": {
      "image/png": "[encoded data removed]",
      "text/plain": [
       "<Figure size 800x600 with 2 Axes>"
      ]
     },
     "metadata": {},
     "output_type": "display_data"
    }
   ],
   "source": [
    "# predicciones en el conjunto de prueba\n",
    "y_pred = knn_best_model.predict(X_test)\n",
    "\n",
    "# Matriz de confusión\n",
    "conf_matrix = confusion_matrix(y_test, y_pred)\n",
    "plt.figure(figsize=(8, 6))\n",
    "sns.heatmap(conf_matrix, annot=True, fmt='d', cmap='Blues', xticklabels=encoder.classes_, yticklabels=encoder.classes_)\n",
    "plt.xlabel('Predicted label')\n",
    "plt.ylabel('True label')\n",
    "plt.title('Confusion Matrix - KNN')\n",
    "plt.show()"
   ]
  },
  {
   "cell_type": "code",
   "execution_count": 484,
   "metadata": {},
   "outputs": [
    {
     "name": "stdout",
     "output_type": "stream",
     "text": [
      "              precision    recall  f1-score   support\n",
      "\n",
      "           0       0.47      0.33      0.39        21\n",
      "           1       0.19      0.17      0.18        18\n",
      "           2       0.71      0.86      0.78        37\n",
      "\n",
      "    accuracy                           0.55        76\n",
      "   macro avg       0.46      0.45      0.45        76\n",
      "weighted avg       0.52      0.55      0.53        76\n",
      "\n"
     ]
    }
   ],
   "source": [
    "from sklearn.metrics import classification_report\n",
    "\n",
    "# reporte de clasificación\n",
    "print(classification_report(y_test, y_pred))"
   ]
  },
  {
   "cell_type": "code",
   "execution_count": null,
   "metadata": {},
   "outputs": [],
   "source": []
  },
  {
   "cell_type": "code",
   "execution_count": null,
   "metadata": {},
   "outputs": [],
   "source": []
  },
  {
   "cell_type": "code",
   "execution_count": null,
   "metadata": {},
   "outputs": [],
   "source": []
  },
  {
   "cell_type": "code",
   "execution_count": null,
   "metadata": {},
   "outputs": [],
   "source": []
  },
  {
   "cell_type": "code",
   "execution_count": null,
   "metadata": {},
   "outputs": [],
   "source": []
  },
  {
   "cell_type": "code",
   "execution_count": null,
   "metadata": {},
   "outputs": [],
   "source": []
  },
  {
   "cell_type": "code",
   "execution_count": null,
   "metadata": {},
   "outputs": [],
   "source": []
  },
  {
   "cell_type": "code",
   "execution_count": null,
   "metadata": {},
   "outputs": [],
   "source": []
  },
  {
   "cell_type": "code",
   "execution_count": null,
   "metadata": {},
   "outputs": [],
   "source": []
  },
  {
   "cell_type": "code",
   "execution_count": null,
   "metadata": {},
   "outputs": [],
   "source": []
  }
 ],
 "metadata": {
  "kernelspec": {
   "display_name": "Python 3",
   "language": "python",
   "name": "python3"
  },
  "language_info": {
   "codemirror_mode": {
    "name": "ipython",
    "version": 3
   },
   "file_extension": ".py",
   "mimetype": "text/x-python",
   "name": "python",
   "nbconvert_exporter": "python",
   "pygments_lexer": "ipython3",
   "version": "3.12.4"
  }
 },
 "nbformat": 4,
 "nbformat_minor": 4
}
