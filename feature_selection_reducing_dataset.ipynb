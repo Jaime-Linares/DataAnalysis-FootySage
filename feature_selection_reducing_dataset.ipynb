{
 "cells": [
  {
   "cell_type": "markdown",
   "metadata": {},
   "source": [
    "## FEATURE SELECTION - FootySage"
   ]
  },
  {
   "cell_type": "markdown",
   "metadata": {},
   "source": [
    "En este cuaderno se define un flujo de trabajo para la selección y análisis de características relevantes utilizando los datos de *Open Data* de ***StatsBomb***. \n",
    "\n",
    "Este proceso comienza con la integración de información proveniente de diversas fuentes, como partidos, alineaciones y eventos, consolidándola en un dataset estructurado. Cada fila del dataset representa un partido, enriquecido con métricas calculadas que reflejan aspectos clave del rendimiento, como estadísticas agregadas de pases, disparos, recuperaciones, faltas, entre otros.\n",
    "\n",
    "A partir de este dataset, se entrenarán modelos básicos de Machine Learning, como Árboles de Decisión (Decision Tree), Regresión Logística (Logistic Regression) y K-Nearest Neighbors (KNN). El objetivo es evaluar su capacidad de clasificación y obtener conclusiones sobre la influencia de las características seleccionadas. Este enfoque inicial proporcionará una base sólida para ampliar el análisis hacia conjuntos de datos más extensos e implementar modelos más avanzados en futuras fases del proyecto."
   ]
  },
  {
   "cell_type": "markdown",
   "metadata": {},
   "source": [
    "### Estudio de una competición en una temporada (Competición regular)"
   ]
  },
  {
   "cell_type": "markdown",
   "metadata": {},
   "source": [
    "#### Carga y procesamiento de datos (extracción y estructuración)"
   ]
  },
  {
   "cell_type": "markdown",
   "metadata": {},
   "source": [
    "En primer lugar seleccionamos la competición y la temporada de esa competición que queremos estudiar."
   ]
  },
  {
   "cell_type": "code",
   "execution_count": 1,
   "metadata": {},
   "outputs": [
    {
     "name": "stdout",
     "output_type": "stream",
     "text": [
      "We are going to study the tournament La Liga (2015/2016, male) whose competition_id=11 and season_id=27\n"
     ]
    }
   ],
   "source": [
    "from src.fetch_data import get_competition_id_and_season_id\n",
    "\n",
    "\n",
    "# seleccionamos el torneo a estudiar (competición, temporada y género)\n",
    "competition_name = \"La Liga\"\n",
    "competition_gender = \"male\"\n",
    "season_name = \"2015/2016\"\n",
    "season_name_for_filename = \"2015_2016\"\n",
    "\n",
    "competition_id, season_id = get_competition_id_and_season_id(competition_name, competition_gender, season_name)\n",
    "print(f\"We are going to study the tournament {competition_name + ' (' + season_name + ', ' + competition_gender + ')'} whose competition_id={competition_id} and season_id={season_id}\")"
   ]
  },
  {
   "cell_type": "markdown",
   "metadata": {},
   "source": [
    "Dada esa competición vamos a obtener cuales son todos los partidos que se han jugado en tal competición esa temporada."
   ]
  },
  {
   "cell_type": "code",
   "execution_count": 2,
   "metadata": {},
   "outputs": [
    {
     "name": "stdout",
     "output_type": "stream",
     "text": [
      "Number of matches in the competition that season: 380\n",
      "All values in column 'match_status' are equal: available\n"
     ]
    }
   ],
   "source": [
    "from src.fetch_data import get_matches\n",
    "\n",
    "\n",
    "matches_df = get_matches(competition_id, season_id)\n",
    "print(f\"Number of matches in the competition that season: {matches_df.shape[0]}\")\n",
    "\n",
    "# comprobamos que todos los partidos estén disponibles para obtener información\n",
    "column_name = \"match_status\"\n",
    "if matches_df[column_name].nunique() == 1: \n",
    "    print(f\"All values in column '{column_name}' are equal: {matches_df[column_name].iloc[0]}\")\n",
    "else:\n",
    "    print(f\"The values in column '{column_name}' are different.\")"
   ]
  },
  {
   "cell_type": "markdown",
   "metadata": {},
   "source": [
    "Tras tener todos los partidos de la competición ordenados a nuestro gusto, nos disponemos a obtener los datos relacionados con eventos, alineaciones... de cada partido. \n",
    "\n",
    "Estos datos son ('(x2)' se refiere tanto al equipo de casa como al de fuera y 'x' en el nombre de la variable hace referencia a 'home' y 'away'):\n",
    "- Estadísticas generales:\n",
    "  - Tiros:\n",
    "    - Número de tiros totales (x2) --> total_shots_x\n",
    "    - Ratio de tiros a puerta (x2) --> shots_on_target_ratio_x\n",
    "    - Distancia promedio a la portería desde donde se hacen los tiros a puerta (x2) --> average_shot_on_target_distance_x\n",
    "    - Tiros con alto xG (umbral > 0.2) (x2) --> shots_high_xG_x\n",
    "    - Número de tiros dentro del área (x2) --> shots_inside_area_x\n",
    "    - Ratio de tiros dentro del área (x2) --> shots_inside_area_ratio_x\n",
    "    - Número de tiros con el pie (derecho e izquierdo) (x2) --> shots_foot_x\n",
    "    - Número de tiros con la cabeza (x2) --> shots_head_x\n",
    "    - Número de tiros con otra parte del cuerpo (x2) --> shots_other_x\n",
    "  - Pases:\n",
    "    - Número de pases realizados (x2) --> total_passes_x\n",
    "    - Precisión de pases realizados (x2) --> pass_success_ratio_x\n",
    "    - Número de pases claves realizados (x2) --> key_passes_x\n",
    "    - Número de pases necesarios para hacer un gol (x2) --> passes_needed_to_make_a_shot_x\n",
    "    - Número de centros al área ralizados (x2) --> cross_x\n",
    "    - Precisión de los centros al área (x2) --> cross_success_ratio_x\n",
    "    - Número de corners (x2) --> corners_x\n",
    "  - Defensa:\n",
    "    - Número de intercepciones realizadas con éxito (x2) --> interceptions_won_x\n",
    "    - Número de recuperaciones/robos (x2) --> recoveries_x\n",
    "    - Número de bloqueos realizados (x2) --> blocks_x\n",
    "    - Número de duelos ganados (x2) --> duels_won_x\n",
    "    - Número de entradas realizadas (x2) --> tackles_x\n",
    "    - Ratio de entradas exitosas (x2) --> tackles_success_ratio_x\n",
    "    - Número de faltas cometidas por equipo (x2) --> fouls_committed_x\n",
    "    - Número de balones divididos (50-50) ganados (x2) --> 50_50_won_x\n",
    "    - Número de despejes por equipo (x2) --> clearance_x\n",
    "    - Número de penaltis cometidos (x2) --> penaltys_committed_x\n",
    "    - Número de errores claves cometidos (x2) --> key_errors_x\n",
    "    - Número de pérdidas debido a malos controles (x2) --> miscontrol_x\n",
    "    - Número de tarjetas amarillas (x2) --> yellow_cards_x\n",
    "    - Número de tarjetas rojas (x2) --> red_cards_x\n",
    "  - Presión:\n",
    "    - Número de presiones realizadas (x2) --> pressures_x\n",
    "    - Número de presiones inmediatas tras pérdida (x2) --> counterpress_x\n",
    "    - Presiones realizas en tercio ofensivo (x2) --> pressures_in_attacking_third_x\n",
    "  - Otros:\n",
    "    - Número de fueras de juego (x2) --> offside_x\n",
    "    - Número de dribbles intentados (x2) --> dribbles_x\n",
    "    - Ratio de dribbles exitosos (x2) --> dribbles_success_ratio_x\n",
    "    - Número de cambios por lesión (x2) --> injuries_substitution_x\n",
    "    - Número de jugadores lesionados que han abandonado el campo sin hacer una sustitución (x2) --> players_off_x\n",
    "    - Número de pérdidas de balón (x2) --> dispossessed_x\n",
    "    - Número de contragolpes/contrataques (x2) --> counterattacks_x\n",
    "    - Porcentaje de posesión (x2) --> possession_percentage_x\n",
    "- Estadísticas contextuales:\n",
    "  - Recuperaciones:\n",
    "    - Recuperaciones en tercio ofensivo (x2) --> recoveries_attacking_third_x\n",
    "    - Recuperaciones en tercio medio (x2) --> recoveries_middle_third_x\n",
    "    - Recuperaciones en tercio defensivo (x2) --> recoveries_defensive_third_x\n",
    "  - Eventos bajo presión:\n",
    "    - Tiros realizados bajo presión (x2) --> shots_under_pressure_x\n",
    "    - Tiros realizados sin presión en el área (x2) --> shots_without_pressure_inside_area_x \n",
    "    - Pases realizados bajo presión (x2) --> passes_under_pressure_x\n",
    "    - Pases realizados sin presión en el área (x2) --> passes_without_pressure_inside_area_x\n",
    "  - Jugadas a balón parado:\n",
    "    - Tiros generados desde jugadas a balón parado (x2) --> set_piece_shots_x\n",
    "    - Tiros en el área generados desde jugadas a balón parado (x2) --> set_piece_shots_inside_area_x\n",
    "    - Ratio de tiros a puerta generados desde jugadas a balón parado (x2) --> set_piece_shots_on_target_ratio_x\n",
    "- Tácticas:\n",
    "  - Número de substituciones realizadas (x2) --> substitutions_x\n",
    "  - Número de substituciones debido a una razón táctica realizadas (x2) --> tactical_substitutions_x\n",
    "  - Número de cambios tácticos realizados (x2) --> tactical_changes_x\n",
    "  - Número de veces que se cambia la formación en el partido (x2) --> formation_changes_x\n",
    "- Métricas temporales:\n",
    "  - Rendimiento partidos pasados:\n",
    "    - Resumen de los últimos 3 partidos (3|1|0) (x2) --> last_3_matches_form_x\n",
    "    - Es válido el resumen de los últimos 3 partidos (boolean) (x2) --> is_valid_last_3_matches_form_x\n",
    "    - Porcentaje de victoria en los últimos 5 partidos (x2) --> win_rate_last_5_matches_x\n",
    "    - Es válido el porcentaje de victoria en los últimos 5 partidos (boolean) (x2) --> is_valid_win_rate_last_5_matches_x\n",
    "    - Victoria en el último partido en casa del equipo local (boolean) --> win_last_home_match_home_team\n",
    "    - Es válida la última victoria en el último partido en casa del equipo local (boolean) --> is_valid_win_last_home_match_home_team\n",
    "    - Victoria en el último partido fuera del equipo visitante (boolean) --> win_last_away_match_away_team\n",
    "    - Es válida la última victoria en el último partido fuera del equipo visitante (boolean) --> is_valid_win_last_away_match_away_team\n",
    "  - Último partido:\n",
    "    - Número de goles concedidos en el último partido (x2) --> goals_conceded_last_match_x\n",
    "    - Es válido el número de goles concedidos en el último partido (boolean) (x2) --> is_valid_goals_conceded_last_match_x\n",
    "    - Número de goles anotados en el último partido (x2) --> goals_scored_last_match_x\n",
    "    - Es válido el número de goles anotados en el último partido (boolean) (x2) --> is_valid_goals_scored_last_match_x\n",
    "  - Consistencia:\n",
    "    - Desviación estándar de tiros en los últimos 3 partidos (x2) --> std_shots_last_3_matches_x\n",
    "    - Es válida la desviación estándar de tiros en los últimos 3 partidos (boolean) (x2) --> is_valid_std_shots_last_3_matches_x\n",
    "- Equipo ganador --> winner_team (home_team, away_team, draw)"
   ]
  },
  {
   "cell_type": "code",
   "execution_count": 3,
   "metadata": {},
   "outputs": [
    {
     "name": "stdout",
     "output_type": "stream",
     "text": [
      "Matches from the competition already processed and saved in data/processed/La Liga(2015_2016_male)_processed.csv\n",
      "If you want to process again the matches, please delete the file.\n"
     ]
    }
   ],
   "source": [
    "from src.data_processing import process_all_matches\n",
    "import pandas as pd\n",
    "import os\n",
    "\n",
    "\n",
    "output_dir = \"data/processed/\"\n",
    "filename = f\"{competition_name}({season_name_for_filename}_{competition_gender})_processed.csv\"\n",
    "output_path = os.path.join(output_dir, filename)\n",
    "\n",
    "# comprobamos si ya hemos procesado los partidos de la competición en esa temporada\n",
    "if os.path.exists(output_path):    # si ya los hemos procesado, los cargamos\n",
    "    print(f\"Matches from the competition already processed and saved in {output_path}\")\n",
    "    print(\"If you want to process again the matches, please delete the file.\")\n",
    "    matches_processed_df = pd.read_csv(output_path)\n",
    "else:     # si no los hemos procesado, los procesamos y guardamos\n",
    "    # procesamos todos los partido de la competición\n",
    "    matches_processed_df = process_all_matches(matches_df)\n",
    "    # guardamos la información procesada en un csv por si en algún momento necesitamos volver a tener que cargar esta información\n",
    "    matches_processed_df.to_csv(output_path, index=False)\n",
    "    print(f\"All matches from the competition processed and save in {output_dir}/{filename}\")"
   ]
  },
  {
   "cell_type": "code",
   "execution_count": 4,
   "metadata": {},
   "outputs": [
    {
     "data": {
      "text/html": [
       "<div>\n",
       "<style scoped>\n",
       "    .dataframe tbody tr th:only-of-type {\n",
       "        vertical-align: middle;\n",
       "    }\n",
       "\n",
       "    .dataframe tbody tr th {\n",
       "        vertical-align: top;\n",
       "    }\n",
       "\n",
       "    .dataframe thead th {\n",
       "        text-align: right;\n",
       "    }\n",
       "</style>\n",
       "<table border=\"1\" class=\"dataframe\">\n",
       "  <thead>\n",
       "    <tr style=\"text-align: right;\">\n",
       "      <th></th>\n",
       "      <th>total_shots_home</th>\n",
       "      <th>total_shots_away</th>\n",
       "      <th>shots_on_target_ratio_home</th>\n",
       "      <th>shots_on_target_ratio_away</th>\n",
       "      <th>average_shots_on_target_distance_home</th>\n",
       "      <th>average_shots_on_target_distance_away</th>\n",
       "      <th>shots_high_xG_home</th>\n",
       "      <th>shots_high_xG_away</th>\n",
       "      <th>shots_inside_area_home</th>\n",
       "      <th>shots_inside_area_away</th>\n",
       "      <th>...</th>\n",
       "      <th>is_valid_goals_conceded_last_match_away</th>\n",
       "      <th>goals_scored_last_match_home</th>\n",
       "      <th>is_valid_goals_scored_last_match_home</th>\n",
       "      <th>goals_scored_last_match_away</th>\n",
       "      <th>is_valid_goals_scored_last_match_away</th>\n",
       "      <th>std_shots_last_3_matches_home</th>\n",
       "      <th>is_valid_std_shots_last_3_matches_home</th>\n",
       "      <th>std_shots_last_3_matches_away</th>\n",
       "      <th>is_valid_std_shots_last_3_matches_away</th>\n",
       "      <th>winner_team</th>\n",
       "    </tr>\n",
       "  </thead>\n",
       "  <tbody>\n",
       "    <tr>\n",
       "      <th>0</th>\n",
       "      <td>5</td>\n",
       "      <td>13</td>\n",
       "      <td>0.400000</td>\n",
       "      <td>0.153846</td>\n",
       "      <td>20.462904</td>\n",
       "      <td>15.923442</td>\n",
       "      <td>0</td>\n",
       "      <td>2</td>\n",
       "      <td>3</td>\n",
       "      <td>5</td>\n",
       "      <td>...</td>\n",
       "      <td>0</td>\n",
       "      <td>0</td>\n",
       "      <td>0</td>\n",
       "      <td>0</td>\n",
       "      <td>0</td>\n",
       "      <td>0.0</td>\n",
       "      <td>0</td>\n",
       "      <td>0.0</td>\n",
       "      <td>0</td>\n",
       "      <td>home_team</td>\n",
       "    </tr>\n",
       "    <tr>\n",
       "      <th>1</th>\n",
       "      <td>16</td>\n",
       "      <td>10</td>\n",
       "      <td>0.312500</td>\n",
       "      <td>0.300000</td>\n",
       "      <td>25.239973</td>\n",
       "      <td>18.652679</td>\n",
       "      <td>0</td>\n",
       "      <td>2</td>\n",
       "      <td>3</td>\n",
       "      <td>6</td>\n",
       "      <td>...</td>\n",
       "      <td>0</td>\n",
       "      <td>0</td>\n",
       "      <td>0</td>\n",
       "      <td>0</td>\n",
       "      <td>0</td>\n",
       "      <td>0.0</td>\n",
       "      <td>0</td>\n",
       "      <td>0.0</td>\n",
       "      <td>0</td>\n",
       "      <td>draw</td>\n",
       "    </tr>\n",
       "    <tr>\n",
       "      <th>2</th>\n",
       "      <td>6</td>\n",
       "      <td>10</td>\n",
       "      <td>0.333333</td>\n",
       "      <td>0.400000</td>\n",
       "      <td>33.431447</td>\n",
       "      <td>11.773407</td>\n",
       "      <td>0</td>\n",
       "      <td>2</td>\n",
       "      <td>3</td>\n",
       "      <td>7</td>\n",
       "      <td>...</td>\n",
       "      <td>0</td>\n",
       "      <td>0</td>\n",
       "      <td>0</td>\n",
       "      <td>0</td>\n",
       "      <td>0</td>\n",
       "      <td>0.0</td>\n",
       "      <td>0</td>\n",
       "      <td>0.0</td>\n",
       "      <td>0</td>\n",
       "      <td>away_team</td>\n",
       "    </tr>\n",
       "    <tr>\n",
       "      <th>3</th>\n",
       "      <td>13</td>\n",
       "      <td>10</td>\n",
       "      <td>0.461538</td>\n",
       "      <td>0.400000</td>\n",
       "      <td>24.394269</td>\n",
       "      <td>9.439840</td>\n",
       "      <td>2</td>\n",
       "      <td>2</td>\n",
       "      <td>7</td>\n",
       "      <td>8</td>\n",
       "      <td>...</td>\n",
       "      <td>0</td>\n",
       "      <td>0</td>\n",
       "      <td>0</td>\n",
       "      <td>0</td>\n",
       "      <td>0</td>\n",
       "      <td>0.0</td>\n",
       "      <td>0</td>\n",
       "      <td>0.0</td>\n",
       "      <td>0</td>\n",
       "      <td>away_team</td>\n",
       "    </tr>\n",
       "    <tr>\n",
       "      <th>4</th>\n",
       "      <td>26</td>\n",
       "      <td>10</td>\n",
       "      <td>0.153846</td>\n",
       "      <td>0.200000</td>\n",
       "      <td>20.432657</td>\n",
       "      <td>19.849825</td>\n",
       "      <td>0</td>\n",
       "      <td>2</td>\n",
       "      <td>10</td>\n",
       "      <td>8</td>\n",
       "      <td>...</td>\n",
       "      <td>0</td>\n",
       "      <td>0</td>\n",
       "      <td>0</td>\n",
       "      <td>0</td>\n",
       "      <td>0</td>\n",
       "      <td>0.0</td>\n",
       "      <td>0</td>\n",
       "      <td>0.0</td>\n",
       "      <td>0</td>\n",
       "      <td>draw</td>\n",
       "    </tr>\n",
       "    <tr>\n",
       "      <th>5</th>\n",
       "      <td>6</td>\n",
       "      <td>27</td>\n",
       "      <td>0.000000</td>\n",
       "      <td>0.296296</td>\n",
       "      <td>120.000000</td>\n",
       "      <td>21.352619</td>\n",
       "      <td>0</td>\n",
       "      <td>1</td>\n",
       "      <td>4</td>\n",
       "      <td>12</td>\n",
       "      <td>...</td>\n",
       "      <td>0</td>\n",
       "      <td>0</td>\n",
       "      <td>0</td>\n",
       "      <td>0</td>\n",
       "      <td>0</td>\n",
       "      <td>0.0</td>\n",
       "      <td>0</td>\n",
       "      <td>0.0</td>\n",
       "      <td>0</td>\n",
       "      <td>draw</td>\n",
       "    </tr>\n",
       "    <tr>\n",
       "      <th>6</th>\n",
       "      <td>12</td>\n",
       "      <td>7</td>\n",
       "      <td>0.250000</td>\n",
       "      <td>0.000000</td>\n",
       "      <td>25.685715</td>\n",
       "      <td>120.000000</td>\n",
       "      <td>0</td>\n",
       "      <td>1</td>\n",
       "      <td>5</td>\n",
       "      <td>4</td>\n",
       "      <td>...</td>\n",
       "      <td>0</td>\n",
       "      <td>0</td>\n",
       "      <td>0</td>\n",
       "      <td>0</td>\n",
       "      <td>0</td>\n",
       "      <td>0.0</td>\n",
       "      <td>0</td>\n",
       "      <td>0.0</td>\n",
       "      <td>0</td>\n",
       "      <td>home_team</td>\n",
       "    </tr>\n",
       "    <tr>\n",
       "      <th>7</th>\n",
       "      <td>11</td>\n",
       "      <td>14</td>\n",
       "      <td>0.181818</td>\n",
       "      <td>0.428571</td>\n",
       "      <td>24.736200</td>\n",
       "      <td>17.236907</td>\n",
       "      <td>0</td>\n",
       "      <td>1</td>\n",
       "      <td>3</td>\n",
       "      <td>7</td>\n",
       "      <td>...</td>\n",
       "      <td>0</td>\n",
       "      <td>0</td>\n",
       "      <td>0</td>\n",
       "      <td>0</td>\n",
       "      <td>0</td>\n",
       "      <td>0.0</td>\n",
       "      <td>0</td>\n",
       "      <td>0.0</td>\n",
       "      <td>0</td>\n",
       "      <td>away_team</td>\n",
       "    </tr>\n",
       "    <tr>\n",
       "      <th>8</th>\n",
       "      <td>22</td>\n",
       "      <td>8</td>\n",
       "      <td>0.272727</td>\n",
       "      <td>0.500000</td>\n",
       "      <td>22.581797</td>\n",
       "      <td>18.761077</td>\n",
       "      <td>2</td>\n",
       "      <td>2</td>\n",
       "      <td>10</td>\n",
       "      <td>7</td>\n",
       "      <td>...</td>\n",
       "      <td>0</td>\n",
       "      <td>0</td>\n",
       "      <td>0</td>\n",
       "      <td>0</td>\n",
       "      <td>0</td>\n",
       "      <td>0.0</td>\n",
       "      <td>0</td>\n",
       "      <td>0.0</td>\n",
       "      <td>0</td>\n",
       "      <td>draw</td>\n",
       "    </tr>\n",
       "    <tr>\n",
       "      <th>9</th>\n",
       "      <td>8</td>\n",
       "      <td>10</td>\n",
       "      <td>0.375000</td>\n",
       "      <td>0.400000</td>\n",
       "      <td>33.762858</td>\n",
       "      <td>12.528144</td>\n",
       "      <td>1</td>\n",
       "      <td>3</td>\n",
       "      <td>1</td>\n",
       "      <td>7</td>\n",
       "      <td>...</td>\n",
       "      <td>0</td>\n",
       "      <td>0</td>\n",
       "      <td>0</td>\n",
       "      <td>0</td>\n",
       "      <td>0</td>\n",
       "      <td>0.0</td>\n",
       "      <td>0</td>\n",
       "      <td>0.0</td>\n",
       "      <td>0</td>\n",
       "      <td>draw</td>\n",
       "    </tr>\n",
       "    <tr>\n",
       "      <th>10</th>\n",
       "      <td>9</td>\n",
       "      <td>9</td>\n",
       "      <td>0.777778</td>\n",
       "      <td>0.111111</td>\n",
       "      <td>13.798140</td>\n",
       "      <td>22.016812</td>\n",
       "      <td>2</td>\n",
       "      <td>0</td>\n",
       "      <td>9</td>\n",
       "      <td>3</td>\n",
       "      <td>...</td>\n",
       "      <td>1</td>\n",
       "      <td>3</td>\n",
       "      <td>1</td>\n",
       "      <td>0</td>\n",
       "      <td>1</td>\n",
       "      <td>0.0</td>\n",
       "      <td>0</td>\n",
       "      <td>0.0</td>\n",
       "      <td>0</td>\n",
       "      <td>home_team</td>\n",
       "    </tr>\n",
       "  </tbody>\n",
       "</table>\n",
       "<p>11 rows × 135 columns</p>\n",
       "</div>"
      ],
      "text/plain": [
       "    total_shots_home  total_shots_away  shots_on_target_ratio_home  \\\n",
       "0                  5                13                    0.400000   \n",
       "1                 16                10                    0.312500   \n",
       "2                  6                10                    0.333333   \n",
       "3                 13                10                    0.461538   \n",
       "4                 26                10                    0.153846   \n",
       "5                  6                27                    0.000000   \n",
       "6                 12                 7                    0.250000   \n",
       "7                 11                14                    0.181818   \n",
       "8                 22                 8                    0.272727   \n",
       "9                  8                10                    0.375000   \n",
       "10                 9                 9                    0.777778   \n",
       "\n",
       "    shots_on_target_ratio_away  average_shots_on_target_distance_home  \\\n",
       "0                     0.153846                              20.462904   \n",
       "1                     0.300000                              25.239973   \n",
       "2                     0.400000                              33.431447   \n",
       "3                     0.400000                              24.394269   \n",
       "4                     0.200000                              20.432657   \n",
       "5                     0.296296                             120.000000   \n",
       "6                     0.000000                              25.685715   \n",
       "7                     0.428571                              24.736200   \n",
       "8                     0.500000                              22.581797   \n",
       "9                     0.400000                              33.762858   \n",
       "10                    0.111111                              13.798140   \n",
       "\n",
       "    average_shots_on_target_distance_away  shots_high_xG_home  \\\n",
       "0                               15.923442                   0   \n",
       "1                               18.652679                   0   \n",
       "2                               11.773407                   0   \n",
       "3                                9.439840                   2   \n",
       "4                               19.849825                   0   \n",
       "5                               21.352619                   0   \n",
       "6                              120.000000                   0   \n",
       "7                               17.236907                   0   \n",
       "8                               18.761077                   2   \n",
       "9                               12.528144                   1   \n",
       "10                              22.016812                   2   \n",
       "\n",
       "    shots_high_xG_away  shots_inside_area_home  shots_inside_area_away  ...  \\\n",
       "0                    2                       3                       5  ...   \n",
       "1                    2                       3                       6  ...   \n",
       "2                    2                       3                       7  ...   \n",
       "3                    2                       7                       8  ...   \n",
       "4                    2                      10                       8  ...   \n",
       "5                    1                       4                      12  ...   \n",
       "6                    1                       5                       4  ...   \n",
       "7                    1                       3                       7  ...   \n",
       "8                    2                      10                       7  ...   \n",
       "9                    3                       1                       7  ...   \n",
       "10                   0                       9                       3  ...   \n",
       "\n",
       "    is_valid_goals_conceded_last_match_away  goals_scored_last_match_home  \\\n",
       "0                                         0                             0   \n",
       "1                                         0                             0   \n",
       "2                                         0                             0   \n",
       "3                                         0                             0   \n",
       "4                                         0                             0   \n",
       "5                                         0                             0   \n",
       "6                                         0                             0   \n",
       "7                                         0                             0   \n",
       "8                                         0                             0   \n",
       "9                                         0                             0   \n",
       "10                                        1                             3   \n",
       "\n",
       "    is_valid_goals_scored_last_match_home  goals_scored_last_match_away  \\\n",
       "0                                       0                             0   \n",
       "1                                       0                             0   \n",
       "2                                       0                             0   \n",
       "3                                       0                             0   \n",
       "4                                       0                             0   \n",
       "5                                       0                             0   \n",
       "6                                       0                             0   \n",
       "7                                       0                             0   \n",
       "8                                       0                             0   \n",
       "9                                       0                             0   \n",
       "10                                      1                             0   \n",
       "\n",
       "    is_valid_goals_scored_last_match_away  std_shots_last_3_matches_home  \\\n",
       "0                                       0                            0.0   \n",
       "1                                       0                            0.0   \n",
       "2                                       0                            0.0   \n",
       "3                                       0                            0.0   \n",
       "4                                       0                            0.0   \n",
       "5                                       0                            0.0   \n",
       "6                                       0                            0.0   \n",
       "7                                       0                            0.0   \n",
       "8                                       0                            0.0   \n",
       "9                                       0                            0.0   \n",
       "10                                      1                            0.0   \n",
       "\n",
       "    is_valid_std_shots_last_3_matches_home  std_shots_last_3_matches_away  \\\n",
       "0                                        0                            0.0   \n",
       "1                                        0                            0.0   \n",
       "2                                        0                            0.0   \n",
       "3                                        0                            0.0   \n",
       "4                                        0                            0.0   \n",
       "5                                        0                            0.0   \n",
       "6                                        0                            0.0   \n",
       "7                                        0                            0.0   \n",
       "8                                        0                            0.0   \n",
       "9                                        0                            0.0   \n",
       "10                                       0                            0.0   \n",
       "\n",
       "    is_valid_std_shots_last_3_matches_away  winner_team  \n",
       "0                                        0    home_team  \n",
       "1                                        0         draw  \n",
       "2                                        0    away_team  \n",
       "3                                        0    away_team  \n",
       "4                                        0         draw  \n",
       "5                                        0         draw  \n",
       "6                                        0    home_team  \n",
       "7                                        0    away_team  \n",
       "8                                        0         draw  \n",
       "9                                        0         draw  \n",
       "10                                       0    home_team  \n",
       "\n",
       "[11 rows x 135 columns]"
      ]
     },
     "execution_count": 4,
     "metadata": {},
     "output_type": "execute_result"
    }
   ],
   "source": [
    "matches_processed_df.head(11)"
   ]
  },
  {
   "cell_type": "markdown",
   "metadata": {},
   "source": [
    "Como podemos ver ya tenemos todos los partidos de la competición en esa temporada procesados en la variable `matches_processed_df`. Tras esto, vamos a encargarnos de preparar los datos para poder llevar a cabo la selección características mediante el entrenamiento y la validación de unos modelos."
   ]
  },
  {
   "cell_type": "markdown",
   "metadata": {},
   "source": [
    "#### Preparación de los datos (limpieza, imputación y transformación)"
   ]
  },
  {
   "cell_type": "markdown",
   "metadata": {},
   "source": [
    "Vamos a reducir el número de columnas de las features (X) de manera que no se pierda información pero haya un número menor de columnas. Las columnas modificadas son:\n",
    "- Estadísticas generales:\n",
    "    - Tiros:\n",
    "        - Número de tiros totales (x2) --> total_shots_x  ===>  Porcentaje de tiros totales del equipo local con respecto al total del partido --> percentage_total_shots_home\n",
    "        - Tiros con alto xG (umbral > 0.2) (x2) --> shots_high_xG_x  ===>  Porcentaje de tiros con alto xG del equipo con respecto al total del partido --> percentage_shots_high_xG_home\n",
    "        - Número de tiros dentro del área (x2) --> shots_inside_area_x  ===>  Porcentaje de tiros dentro del área del equipo local con respecto al total del partido --> percentage_shots_inside_area_home\n",
    "        - Número de tiros con el pie (derecho e izquierdo) (x2) --> shots_foot_x  ===>  Porcentaje de tiros con el pie del equipo local con respecto al total del partido --> percentage_shots_foot_home\n",
    "        - Número de tiros con la cabeza (x2) --> shots_head_x  ===>  Porcentaje de tiros con la cabeza del equipo local con respecto al total del partido --> percentage_shots_head_home\n",
    "        - Número de tiros con otra parte del cuerpo (x2) --> shots_other_x  ===>  Porcentaje de tiros con otra parte del cuerpo del equipo local con respecto al total del partido --> percentage_shots_other_home\n",
    "    - Pases:\n",
    "        - Número de pases realizados (x2) --> total_passes_x  ===>  Porcentaje de pases del equipo local con respecto al total del partido --> percentage_total_passes_home\n",
    "        - Número de pases clave realizados (x2) --> key_passes_x  ===>  Porcentaje de pases claves del equipo local con respecto al total del partido --> percentage_key_passes_home\n",
    "        - Número de pases necesarios para hacer un gol (x2) --> passes_needed_to_make_a_shot_x  ===>  Diferencia de pases que necesita para hacer gol el equipo local frente al equipo visitante --> difference_passes_needed_to_make_a_shot_home\n",
    "        - Número de centros al área ralizados (x2) --> cross_x  ===>  Porcentaje de centros al área realizados por el equipo local frente al total del partido --> \n",
    "        - Número de corners (x2) --> corners_x  ===>  Procentaje de corners sacados por el equipo local respecto al total del partido --> percentage_corners_home\n",
    "    - Defensa:\n",
    "        - Número de intercepciones realizadas con éxito (x2) --> interceptions_won_x  ===>  Procentaje del número de intercepciones realizadas con éxito del equipo local frente al total del partido --> percentage_interceptions_won_home\n",
    "        - Número de recuperaciones/robos (x2) --> recoveries_x  ===>  Porcentaje de recuperaciones/robos del equipo local frente al total del partido --> percentage_recoveries_home\n",
    "        - Número de bloqueos realizados (x2) --> blocks_x  ===>  Procentaje de bloqueos realizados por el equipo local respecto al total del partido --> percentage_blocks_home\n",
    "        - Número de duelos ganados (x2) --> duels_won_x  ===>  Porcentaje de duelos ganados por el equipo local respecto al total del partido (x2) --> percentage_duels_won_home\n",
    "        - Número de entradas realizadas (x2) --> tackles_x  ===>  Porcentaje de entradas realizadas (x2) --> percentage_tackles_home\n",
    "        - Número de faltas cometidas por equipo (x2) --> fouls_committed_x  ===>  Porcentaje de faltas cometidas por el equipo local respecto al total del partido --> percentage_fouls_committed_home\n",
    "        - Número de balones divididos (50-50) ganados (x2) --> 50_50_won_x  ===>  Porcentaje de balones divididos (50-50) ganados por el equipo local respecto al total del partido --> percentage_50_50_won_home\n",
    "        - Número de despejes por equipo (x2) --> clearance_x  ===>  Porcentaje de despejes equipo local respecto al total del partido --> percentage_clearance_home\n",
    "        - Número de penaltis cometidos (x2) --> penaltys_committed_x  ===>  Porcentaje de penaltis cometidos por el equipo local respecto al total --> percentage_penaltys_committed_home\n",
    "        - Número de errores claves cometidos (x2) --> key_errors_x  ===>  Porcentaje de errores claves cometidos por el equipo local respecto al total del partido --> percentage_key_errors_home\n",
    "        - Número de pérdidas debido a malos controles (x2) --> miscontrol_x  ===>  Porcentaje de pérdidas debido a malones controles del equipo local respecto al total del partido --> percentage_miscontrol_home\n",
    "        - Número de tarjetas amarillas (x2) --> yellow_cards_x  ===>  Porcentaje de tarjetas amarillas del equipo local respecto al total de partido --> percentage_yellow_cards_home\n",
    "        - Número de tarjetas rojas (x2) --> red_cards_x  ===> Porcentaje de tarjetas rojas del equipo local respecto al total de partido --> \n",
    "    - Presión:\n",
    "        - Número de presiones realizadas (x2) --> pressures_x  ===>  Porcentaje de presiones realizadas por el equipo local respecto al total del partido --> percentage_pressures_home\n",
    "        - Número de presiones inmediatas tras pérdida (x2) --> counterpress_x  ==>  Porcentaje de presiones inmediatas tras pérdida del equipo local respecto al total del partido --> percentage_counterpress_home\n",
    "        - Presiones realizas en tercio ofensivo (x2) --> pressures_in_attacking_third_x  ===>  Porcentaje de presiones realizas en tercio ofensivo por el equipo local respecto al total del partido --> percentage_pressures_in_attacking_third_home\n",
    "    - Otros:\n",
    "        - Número de fueras de juego (x2) --> offside_x  ===>  Porcentaje de fueras de juego del equipo local respecto al total del partido --> percentage_offsides_home\n",
    "        - Número de dribbles intentados (x2) --> dribbles_x  ===>  Porcentaje de dribbles intentados del equipo local respecto al total del partido --> percentage_dribbles_home\n",
    "        - Número de cambios por lesión (x2) --> injuries_substitution_x  ===>  Porcentaje de cambios por lesión del equipo total respecto al total del partido --> percentage_injury_substitutions_home\n",
    "        - Número de jugadores lesionados que han abandonado el campo sin hacer una sustitución (x2) --> players_off_x  ===> Porcentaje de jugadores lesionados que han abandonado el campo sin hacer una sustitución del equipo local respecto al total del partido --> percentage_players_off_home\n",
    "        - Número de pérdidas de balón (x2) --> dispossessed_x  ===>  Porcentaje de pérdidas de balón del equipo local respecto al total del partido --> percentage_dispossessed_home\n",
    "        - Número de contragolpes/contrataques (x2) --> counterattacks_x  ===>  Porcentaje de contragolpes/contrataques del equipo local respecto al total del partido --> percentage_counterattacks_home\n",
    "- Estadística contextuales:"
   ]
  },
  {
   "cell_type": "code",
   "execution_count": 5,
   "metadata": {},
   "outputs": [
    {
     "name": "stdout",
     "output_type": "stream",
     "text": [
      "All matches from the competition cleaned and save in data/cleaned//La Liga(2015_2016_male)_cleaned.csv\n"
     ]
    }
   ],
   "source": [
    "from src.data_preparation import reduce_dimensionality\n",
    "import pandas as pd\n",
    "import os\n",
    "\n",
    "\n",
    "output_dir = \"data/cleaned/\"\n",
    "filename = f\"{competition_name}({season_name_for_filename}_{competition_gender})_cleaned.csv\"\n",
    "output_path = os.path.join(output_dir, filename)\n",
    "\n",
    "# comprobamos si ya hemos limpiado los partidos de la competición en esa temporada\n",
    "#if os.path.exists(output_path):    # si ya los hemos limpiado, los cargamos\n",
    "#    print(f\"Matches from the competition already cleaned and saved in {output_path}\")\n",
    "#    print(\"If you want to clean again the matches, please delete the file.\")\n",
    "#    matches_cleaned_df = pd.read_csv(output_path)\n",
    "#else:     # si no los hemos limpiado, los limpiamos y guardamos\n",
    "    # procesamos todos los partido de la competición\n",
    "matches_cleaned_df = reduce_dimensionality(matches_processed_df.copy())\n",
    "    # guardamos la información procesada en un csv por si en algún momento necesitamos volver a tener que cargar esta información\n",
    "matches_cleaned_df.to_csv(output_path, index=False)\n",
    "print(f\"All matches from the competition cleaned and save in {output_dir}/{filename}\")"
   ]
  },
  {
   "cell_type": "code",
   "execution_count": 6,
   "metadata": {},
   "outputs": [
    {
     "data": {
      "text/html": [
       "<div>\n",
       "<style scoped>\n",
       "    .dataframe tbody tr th:only-of-type {\n",
       "        vertical-align: middle;\n",
       "    }\n",
       "\n",
       "    .dataframe tbody tr th {\n",
       "        vertical-align: top;\n",
       "    }\n",
       "\n",
       "    .dataframe thead th {\n",
       "        text-align: right;\n",
       "    }\n",
       "</style>\n",
       "<table border=\"1\" class=\"dataframe\">\n",
       "  <thead>\n",
       "    <tr style=\"text-align: right;\">\n",
       "      <th></th>\n",
       "      <th>shots_on_target_ratio_home</th>\n",
       "      <th>shots_on_target_ratio_away</th>\n",
       "      <th>average_shots_on_target_distance_home</th>\n",
       "      <th>average_shots_on_target_distance_away</th>\n",
       "      <th>shots_inside_area_ratio_home</th>\n",
       "      <th>shots_inside_area_ratio_away</th>\n",
       "      <th>pass_success_ratio_home</th>\n",
       "      <th>pass_success_ratio_away</th>\n",
       "      <th>cross_success_ratio_home</th>\n",
       "      <th>cross_success_ratio_away</th>\n",
       "      <th>...</th>\n",
       "      <th>percentage_red_cards_home</th>\n",
       "      <th>percentage_pressures_home</th>\n",
       "      <th>percentage_counterpress_home</th>\n",
       "      <th>percentage_pressures_in_attacking_third_home</th>\n",
       "      <th>percentage_offsides_home</th>\n",
       "      <th>percentage_dribbles_home</th>\n",
       "      <th>percentage_injury_substitutions_home</th>\n",
       "      <th>percentage_players_off_home</th>\n",
       "      <th>percentage_dispossessed_home</th>\n",
       "      <th>percentage_counterattacks_home</th>\n",
       "    </tr>\n",
       "  </thead>\n",
       "  <tbody>\n",
       "    <tr>\n",
       "      <th>0</th>\n",
       "      <td>0.400000</td>\n",
       "      <td>0.153846</td>\n",
       "      <td>20.462904</td>\n",
       "      <td>15.923442</td>\n",
       "      <td>0.600000</td>\n",
       "      <td>0.384615</td>\n",
       "      <td>0.630915</td>\n",
       "      <td>0.804089</td>\n",
       "      <td>0.000000</td>\n",
       "      <td>0.000000</td>\n",
       "      <td>...</td>\n",
       "      <td>0.0</td>\n",
       "      <td>0.635258</td>\n",
       "      <td>0.500000</td>\n",
       "      <td>0.482143</td>\n",
       "      <td>0.714286</td>\n",
       "      <td>0.516129</td>\n",
       "      <td>1.0</td>\n",
       "      <td>0.5</td>\n",
       "      <td>0.214286</td>\n",
       "      <td>0.50</td>\n",
       "    </tr>\n",
       "    <tr>\n",
       "      <th>1</th>\n",
       "      <td>0.312500</td>\n",
       "      <td>0.300000</td>\n",
       "      <td>25.239973</td>\n",
       "      <td>18.652679</td>\n",
       "      <td>0.187500</td>\n",
       "      <td>0.600000</td>\n",
       "      <td>0.759191</td>\n",
       "      <td>0.690647</td>\n",
       "      <td>0.285714</td>\n",
       "      <td>0.263158</td>\n",
       "      <td>...</td>\n",
       "      <td>0.5</td>\n",
       "      <td>0.511194</td>\n",
       "      <td>0.529412</td>\n",
       "      <td>0.425000</td>\n",
       "      <td>0.600000</td>\n",
       "      <td>0.407407</td>\n",
       "      <td>0.5</td>\n",
       "      <td>0.5</td>\n",
       "      <td>0.578947</td>\n",
       "      <td>0.60</td>\n",
       "    </tr>\n",
       "    <tr>\n",
       "      <th>2</th>\n",
       "      <td>0.333333</td>\n",
       "      <td>0.400000</td>\n",
       "      <td>33.431447</td>\n",
       "      <td>11.773407</td>\n",
       "      <td>0.500000</td>\n",
       "      <td>0.700000</td>\n",
       "      <td>0.609065</td>\n",
       "      <td>0.809783</td>\n",
       "      <td>0.125000</td>\n",
       "      <td>0.222222</td>\n",
       "      <td>...</td>\n",
       "      <td>0.5</td>\n",
       "      <td>0.825065</td>\n",
       "      <td>0.685185</td>\n",
       "      <td>0.831325</td>\n",
       "      <td>0.500000</td>\n",
       "      <td>0.391304</td>\n",
       "      <td>0.0</td>\n",
       "      <td>0.5</td>\n",
       "      <td>0.411765</td>\n",
       "      <td>0.50</td>\n",
       "    </tr>\n",
       "    <tr>\n",
       "      <th>3</th>\n",
       "      <td>0.461538</td>\n",
       "      <td>0.400000</td>\n",
       "      <td>24.394269</td>\n",
       "      <td>9.439840</td>\n",
       "      <td>0.538462</td>\n",
       "      <td>0.800000</td>\n",
       "      <td>0.760377</td>\n",
       "      <td>0.676543</td>\n",
       "      <td>0.125000</td>\n",
       "      <td>0.285714</td>\n",
       "      <td>...</td>\n",
       "      <td>1.0</td>\n",
       "      <td>0.383178</td>\n",
       "      <td>0.473684</td>\n",
       "      <td>0.492958</td>\n",
       "      <td>0.250000</td>\n",
       "      <td>0.461538</td>\n",
       "      <td>0.0</td>\n",
       "      <td>0.5</td>\n",
       "      <td>0.558824</td>\n",
       "      <td>0.50</td>\n",
       "    </tr>\n",
       "    <tr>\n",
       "      <th>4</th>\n",
       "      <td>0.153846</td>\n",
       "      <td>0.200000</td>\n",
       "      <td>20.432657</td>\n",
       "      <td>19.849825</td>\n",
       "      <td>0.384615</td>\n",
       "      <td>0.800000</td>\n",
       "      <td>0.775176</td>\n",
       "      <td>0.700581</td>\n",
       "      <td>0.416667</td>\n",
       "      <td>0.272727</td>\n",
       "      <td>...</td>\n",
       "      <td>0.0</td>\n",
       "      <td>0.386555</td>\n",
       "      <td>0.456522</td>\n",
       "      <td>0.461538</td>\n",
       "      <td>0.400000</td>\n",
       "      <td>0.612903</td>\n",
       "      <td>0.5</td>\n",
       "      <td>0.5</td>\n",
       "      <td>0.700000</td>\n",
       "      <td>0.50</td>\n",
       "    </tr>\n",
       "    <tr>\n",
       "      <th>5</th>\n",
       "      <td>0.000000</td>\n",
       "      <td>0.296296</td>\n",
       "      <td>120.000000</td>\n",
       "      <td>21.352619</td>\n",
       "      <td>0.666667</td>\n",
       "      <td>0.444444</td>\n",
       "      <td>0.624642</td>\n",
       "      <td>0.832378</td>\n",
       "      <td>0.125000</td>\n",
       "      <td>0.250000</td>\n",
       "      <td>...</td>\n",
       "      <td>0.5</td>\n",
       "      <td>0.743191</td>\n",
       "      <td>0.537037</td>\n",
       "      <td>0.488372</td>\n",
       "      <td>0.666667</td>\n",
       "      <td>0.232558</td>\n",
       "      <td>0.5</td>\n",
       "      <td>0.5</td>\n",
       "      <td>0.320000</td>\n",
       "      <td>0.50</td>\n",
       "    </tr>\n",
       "    <tr>\n",
       "      <th>6</th>\n",
       "      <td>0.250000</td>\n",
       "      <td>0.000000</td>\n",
       "      <td>25.685715</td>\n",
       "      <td>120.000000</td>\n",
       "      <td>0.416667</td>\n",
       "      <td>0.571429</td>\n",
       "      <td>0.814540</td>\n",
       "      <td>0.757075</td>\n",
       "      <td>0.250000</td>\n",
       "      <td>1.000000</td>\n",
       "      <td>...</td>\n",
       "      <td>0.5</td>\n",
       "      <td>0.489028</td>\n",
       "      <td>0.654762</td>\n",
       "      <td>0.640000</td>\n",
       "      <td>0.500000</td>\n",
       "      <td>0.540541</td>\n",
       "      <td>0.0</td>\n",
       "      <td>0.5</td>\n",
       "      <td>0.555556</td>\n",
       "      <td>0.50</td>\n",
       "    </tr>\n",
       "    <tr>\n",
       "      <th>7</th>\n",
       "      <td>0.181818</td>\n",
       "      <td>0.428571</td>\n",
       "      <td>24.736200</td>\n",
       "      <td>17.236907</td>\n",
       "      <td>0.272727</td>\n",
       "      <td>0.500000</td>\n",
       "      <td>0.649518</td>\n",
       "      <td>0.864215</td>\n",
       "      <td>0.230769</td>\n",
       "      <td>0.437500</td>\n",
       "      <td>...</td>\n",
       "      <td>1.0</td>\n",
       "      <td>0.541126</td>\n",
       "      <td>0.367347</td>\n",
       "      <td>0.484848</td>\n",
       "      <td>0.500000</td>\n",
       "      <td>0.641026</td>\n",
       "      <td>0.0</td>\n",
       "      <td>0.5</td>\n",
       "      <td>0.500000</td>\n",
       "      <td>0.50</td>\n",
       "    </tr>\n",
       "    <tr>\n",
       "      <th>8</th>\n",
       "      <td>0.272727</td>\n",
       "      <td>0.500000</td>\n",
       "      <td>22.581797</td>\n",
       "      <td>18.761077</td>\n",
       "      <td>0.454545</td>\n",
       "      <td>0.875000</td>\n",
       "      <td>0.735849</td>\n",
       "      <td>0.623574</td>\n",
       "      <td>0.312500</td>\n",
       "      <td>0.375000</td>\n",
       "      <td>...</td>\n",
       "      <td>0.0</td>\n",
       "      <td>0.399061</td>\n",
       "      <td>0.450980</td>\n",
       "      <td>0.652174</td>\n",
       "      <td>0.333333</td>\n",
       "      <td>0.708333</td>\n",
       "      <td>0.5</td>\n",
       "      <td>0.5</td>\n",
       "      <td>0.368421</td>\n",
       "      <td>0.75</td>\n",
       "    </tr>\n",
       "    <tr>\n",
       "      <th>9</th>\n",
       "      <td>0.375000</td>\n",
       "      <td>0.400000</td>\n",
       "      <td>33.762858</td>\n",
       "      <td>12.528144</td>\n",
       "      <td>0.125000</td>\n",
       "      <td>0.700000</td>\n",
       "      <td>0.757895</td>\n",
       "      <td>0.686076</td>\n",
       "      <td>0.166667</td>\n",
       "      <td>0.222222</td>\n",
       "      <td>...</td>\n",
       "      <td>0.5</td>\n",
       "      <td>0.419664</td>\n",
       "      <td>0.380435</td>\n",
       "      <td>0.478261</td>\n",
       "      <td>0.000000</td>\n",
       "      <td>0.477273</td>\n",
       "      <td>0.5</td>\n",
       "      <td>0.5</td>\n",
       "      <td>0.461538</td>\n",
       "      <td>0.50</td>\n",
       "    </tr>\n",
       "    <tr>\n",
       "      <th>10</th>\n",
       "      <td>0.777778</td>\n",
       "      <td>0.111111</td>\n",
       "      <td>13.798140</td>\n",
       "      <td>22.016812</td>\n",
       "      <td>1.000000</td>\n",
       "      <td>0.333333</td>\n",
       "      <td>0.652278</td>\n",
       "      <td>0.759850</td>\n",
       "      <td>0.000000</td>\n",
       "      <td>0.214286</td>\n",
       "      <td>...</td>\n",
       "      <td>0.5</td>\n",
       "      <td>0.521277</td>\n",
       "      <td>0.462687</td>\n",
       "      <td>0.437500</td>\n",
       "      <td>0.800000</td>\n",
       "      <td>0.617647</td>\n",
       "      <td>0.5</td>\n",
       "      <td>0.5</td>\n",
       "      <td>0.300000</td>\n",
       "      <td>0.50</td>\n",
       "    </tr>\n",
       "  </tbody>\n",
       "</table>\n",
       "<p>11 rows × 103 columns</p>\n",
       "</div>"
      ],
      "text/plain": [
       "    shots_on_target_ratio_home  shots_on_target_ratio_away  \\\n",
       "0                     0.400000                    0.153846   \n",
       "1                     0.312500                    0.300000   \n",
       "2                     0.333333                    0.400000   \n",
       "3                     0.461538                    0.400000   \n",
       "4                     0.153846                    0.200000   \n",
       "5                     0.000000                    0.296296   \n",
       "6                     0.250000                    0.000000   \n",
       "7                     0.181818                    0.428571   \n",
       "8                     0.272727                    0.500000   \n",
       "9                     0.375000                    0.400000   \n",
       "10                    0.777778                    0.111111   \n",
       "\n",
       "    average_shots_on_target_distance_home  \\\n",
       "0                               20.462904   \n",
       "1                               25.239973   \n",
       "2                               33.431447   \n",
       "3                               24.394269   \n",
       "4                               20.432657   \n",
       "5                              120.000000   \n",
       "6                               25.685715   \n",
       "7                               24.736200   \n",
       "8                               22.581797   \n",
       "9                               33.762858   \n",
       "10                              13.798140   \n",
       "\n",
       "    average_shots_on_target_distance_away  shots_inside_area_ratio_home  \\\n",
       "0                               15.923442                      0.600000   \n",
       "1                               18.652679                      0.187500   \n",
       "2                               11.773407                      0.500000   \n",
       "3                                9.439840                      0.538462   \n",
       "4                               19.849825                      0.384615   \n",
       "5                               21.352619                      0.666667   \n",
       "6                              120.000000                      0.416667   \n",
       "7                               17.236907                      0.272727   \n",
       "8                               18.761077                      0.454545   \n",
       "9                               12.528144                      0.125000   \n",
       "10                              22.016812                      1.000000   \n",
       "\n",
       "    shots_inside_area_ratio_away  pass_success_ratio_home  \\\n",
       "0                       0.384615                 0.630915   \n",
       "1                       0.600000                 0.759191   \n",
       "2                       0.700000                 0.609065   \n",
       "3                       0.800000                 0.760377   \n",
       "4                       0.800000                 0.775176   \n",
       "5                       0.444444                 0.624642   \n",
       "6                       0.571429                 0.814540   \n",
       "7                       0.500000                 0.649518   \n",
       "8                       0.875000                 0.735849   \n",
       "9                       0.700000                 0.757895   \n",
       "10                      0.333333                 0.652278   \n",
       "\n",
       "    pass_success_ratio_away  cross_success_ratio_home  \\\n",
       "0                  0.804089                  0.000000   \n",
       "1                  0.690647                  0.285714   \n",
       "2                  0.809783                  0.125000   \n",
       "3                  0.676543                  0.125000   \n",
       "4                  0.700581                  0.416667   \n",
       "5                  0.832378                  0.125000   \n",
       "6                  0.757075                  0.250000   \n",
       "7                  0.864215                  0.230769   \n",
       "8                  0.623574                  0.312500   \n",
       "9                  0.686076                  0.166667   \n",
       "10                 0.759850                  0.000000   \n",
       "\n",
       "    cross_success_ratio_away  ...  percentage_red_cards_home  \\\n",
       "0                   0.000000  ...                        0.0   \n",
       "1                   0.263158  ...                        0.5   \n",
       "2                   0.222222  ...                        0.5   \n",
       "3                   0.285714  ...                        1.0   \n",
       "4                   0.272727  ...                        0.0   \n",
       "5                   0.250000  ...                        0.5   \n",
       "6                   1.000000  ...                        0.5   \n",
       "7                   0.437500  ...                        1.0   \n",
       "8                   0.375000  ...                        0.0   \n",
       "9                   0.222222  ...                        0.5   \n",
       "10                  0.214286  ...                        0.5   \n",
       "\n",
       "    percentage_pressures_home  percentage_counterpress_home  \\\n",
       "0                    0.635258                      0.500000   \n",
       "1                    0.511194                      0.529412   \n",
       "2                    0.825065                      0.685185   \n",
       "3                    0.383178                      0.473684   \n",
       "4                    0.386555                      0.456522   \n",
       "5                    0.743191                      0.537037   \n",
       "6                    0.489028                      0.654762   \n",
       "7                    0.541126                      0.367347   \n",
       "8                    0.399061                      0.450980   \n",
       "9                    0.419664                      0.380435   \n",
       "10                   0.521277                      0.462687   \n",
       "\n",
       "    percentage_pressures_in_attacking_third_home  percentage_offsides_home  \\\n",
       "0                                       0.482143                  0.714286   \n",
       "1                                       0.425000                  0.600000   \n",
       "2                                       0.831325                  0.500000   \n",
       "3                                       0.492958                  0.250000   \n",
       "4                                       0.461538                  0.400000   \n",
       "5                                       0.488372                  0.666667   \n",
       "6                                       0.640000                  0.500000   \n",
       "7                                       0.484848                  0.500000   \n",
       "8                                       0.652174                  0.333333   \n",
       "9                                       0.478261                  0.000000   \n",
       "10                                      0.437500                  0.800000   \n",
       "\n",
       "    percentage_dribbles_home  percentage_injury_substitutions_home  \\\n",
       "0                   0.516129                                   1.0   \n",
       "1                   0.407407                                   0.5   \n",
       "2                   0.391304                                   0.0   \n",
       "3                   0.461538                                   0.0   \n",
       "4                   0.612903                                   0.5   \n",
       "5                   0.232558                                   0.5   \n",
       "6                   0.540541                                   0.0   \n",
       "7                   0.641026                                   0.0   \n",
       "8                   0.708333                                   0.5   \n",
       "9                   0.477273                                   0.5   \n",
       "10                  0.617647                                   0.5   \n",
       "\n",
       "    percentage_players_off_home  percentage_dispossessed_home  \\\n",
       "0                           0.5                      0.214286   \n",
       "1                           0.5                      0.578947   \n",
       "2                           0.5                      0.411765   \n",
       "3                           0.5                      0.558824   \n",
       "4                           0.5                      0.700000   \n",
       "5                           0.5                      0.320000   \n",
       "6                           0.5                      0.555556   \n",
       "7                           0.5                      0.500000   \n",
       "8                           0.5                      0.368421   \n",
       "9                           0.5                      0.461538   \n",
       "10                          0.5                      0.300000   \n",
       "\n",
       "    percentage_counterattacks_home  \n",
       "0                             0.50  \n",
       "1                             0.60  \n",
       "2                             0.50  \n",
       "3                             0.50  \n",
       "4                             0.50  \n",
       "5                             0.50  \n",
       "6                             0.50  \n",
       "7                             0.50  \n",
       "8                             0.75  \n",
       "9                             0.50  \n",
       "10                            0.50  \n",
       "\n",
       "[11 rows x 103 columns]"
      ]
     },
     "execution_count": 6,
     "metadata": {},
     "output_type": "execute_result"
    }
   ],
   "source": [
    "matches_cleaned_df.head(11)"
   ]
  },
  {
   "cell_type": "markdown",
   "metadata": {},
   "source": [
    "Una vez ya tenemos todos los datos de los partidos, vamos a prepararlos de manera que se puedan construir modelos de ML para la predicción de que equipo se lleva la victoria y poder analizar que características son más importantes para que el modelo llegue a la conclusión que llegue."
   ]
  },
  {
   "cell_type": "code",
   "execution_count": 7,
   "metadata": {},
   "outputs": [
    {
     "name": "stdout",
     "output_type": "stream",
     "text": [
      "Winner: away_team, Code value: 0\n",
      "Winner: draw, Code value: 1\n",
      "Winner: home_team, Code value: 2\n"
     ]
    }
   ],
   "source": [
    "from src.data_preparation import code_categorical_data_multiclass\n",
    "\n",
    "\n",
    "# separamos los datos en dos conjuntos: features (X) y target (Y)\n",
    "X = matches_cleaned_df.drop(columns=[\"winner_team\"])\n",
    "y = matches_cleaned_df[\"winner_team\"]\n",
    "\n",
    "# codificamos las variables categóricas (la única variable categórica es la objetivo 'winner_team')\n",
    "y, encoder = code_categorical_data_multiclass(y)\n",
    "# mostramos las clases originales y su correspondiente valor codificado\n",
    "for i, class_label in enumerate(encoder.classes_):\n",
    "    print(f\"Winner: {class_label}, Code value: {i}\")"
   ]
  },
  {
   "cell_type": "markdown",
   "metadata": {},
   "source": [
    "Dividimos los datos en datos de entrenamiento y prueba para poder entrenar los modelos y validar como de buenos son."
   ]
  },
  {
   "cell_type": "code",
   "execution_count": 8,
   "metadata": {},
   "outputs": [],
   "source": [
    "from src.data_preparation import divide_data_in_train_test\n",
    "\n",
    "# dividimos los datos en entrenamiento y test\n",
    "X_train, X_test, y_train, y_test = divide_data_in_train_test(X, y, test_size=0.2)"
   ]
  },
  {
   "cell_type": "markdown",
   "metadata": {},
   "source": [
    "#### Entrenamiento de modelos y evaluación de modelos"
   ]
  },
  {
   "cell_type": "markdown",
   "metadata": {},
   "source": [
    "##### RandomForest"
   ]
  },
  {
   "cell_type": "markdown",
   "metadata": {},
   "source": [
    "Establecemos el pipeline que vamos a utilizar y definimos la búsqueda de hiperparámetros."
   ]
  },
  {
   "cell_type": "code",
   "execution_count": 9,
   "metadata": {},
   "outputs": [],
   "source": [
    "from sklearn.pipeline import Pipeline\n",
    "from sklearn.ensemble import RandomForestClassifier\n",
    "\n",
    "\n",
    "# definimos un pipeline para el modelo RandomForestClassifier\n",
    "rf_pipeline = Pipeline([\n",
    "    ('classifier', RandomForestClassifier(random_state=42))\n",
    "])\n",
    "\n",
    "# definimos el espacio de búsqueda de hiperparámetros\n",
    "rf_param_grid = {\n",
    "    'classifier__n_estimators': [50, 100, 150],\n",
    "    'classifier__max_depth': [3, 5, 8, 10],\n",
    "    'classifier__min_samples_split': [2, 5, 8]\n",
    "}"
   ]
  },
  {
   "cell_type": "markdown",
   "metadata": {},
   "source": [
    "Buscamos la mejor combinación de hiperparámetros para trabajar. Una vez escogido evaluamos los datos de entrenamiento y de test."
   ]
  },
  {
   "cell_type": "code",
   "execution_count": 10,
   "metadata": {},
   "outputs": [
    {
     "name": "stdout",
     "output_type": "stream",
     "text": [
      "Fitting 5 folds for each of 36 candidates, totalling 180 fits\n",
      "Best hyperparameters: {'classifier__max_depth': 8, 'classifier__min_samples_split': 2, 'classifier__n_estimators': 100}\n"
     ]
    },
    {
     "name": "stderr",
     "output_type": "stream",
     "text": [
      "c:\\Python312\\Lib\\site-packages\\numpy\\ma\\core.py:2846: RuntimeWarning: invalid value encountered in cast\n",
      "  _data = np.array(data, dtype=dtype, copy=copy,\n"
     ]
    }
   ],
   "source": [
    "from sklearn.model_selection import GridSearchCV\n",
    "\n",
    "\n",
    "# realizamos la búsqueda de hiperparámetros\n",
    "grid_search = GridSearchCV(rf_pipeline, rf_param_grid, cv=5, scoring='accuracy', verbose=1, n_jobs=-1)\n",
    "grid_search.fit(X_train, y_train)\n",
    "\n",
    "# mejores parámetros\n",
    "print(\"Best hyperparameters:\", grid_search.best_params_)\n",
    "# mejor modelo\n",
    "rf_best_model = grid_search.best_estimator_"
   ]
  },
  {
   "cell_type": "code",
   "execution_count": 11,
   "metadata": {},
   "outputs": [
    {
     "name": "stdout",
     "output_type": "stream",
     "text": [
      "Train Accuracy: 1.0000\n",
      "Test Accuracy: 0.5789\n"
     ]
    }
   ],
   "source": [
    "# evaluación en el conjunto de entrenamiento y prueba\n",
    "train_accuracy = rf_best_model.score(X_train, y_train)\n",
    "print(f\"Train Accuracy: {train_accuracy:.4f}\")\n",
    "test_accuracy = rf_best_model.score(X_test, y_test)\n",
    "print(f\"Test Accuracy: {test_accuracy:.4f}\")"
   ]
  },
  {
   "cell_type": "markdown",
   "metadata": {},
   "source": [
    "Realizamos una validación cruzada."
   ]
  },
  {
   "cell_type": "code",
   "execution_count": 12,
   "metadata": {},
   "outputs": [
    {
     "name": "stdout",
     "output_type": "stream",
     "text": [
      "Cross-Validation Accuracy: 0.6416 +/- 0.0625\n"
     ]
    }
   ],
   "source": [
    "from sklearn.model_selection import cross_val_score\n",
    "\n",
    "# validación cruzada con el mejor modelo\n",
    "cv_scores = cross_val_score(rf_best_model, X_train, y_train, cv=5, scoring='accuracy')\n",
    "print(f\"Cross-Validation Accuracy: {cv_scores.mean():.4f} +/- {cv_scores.std():.4f}\")"
   ]
  },
  {
   "cell_type": "markdown",
   "metadata": {},
   "source": [
    "Realizamos una matriz de confusión y vemos todas la métricas (precision, accuracy, f1_score...) para averiguar donde falla más nuestro modelo."
   ]
  },
  {
   "cell_type": "code",
   "execution_count": 13,
   "metadata": {},
   "outputs": [
    {
     "data": {
      "image/png": "[encoded data removed]",
      "text/plain": [
       "<Figure size 800x600 with 2 Axes>"
      ]
     },
     "metadata": {},
     "output_type": "display_data"
    }
   ],
   "source": [
    "from sklearn.metrics import confusion_matrix\n",
    "import matplotlib.pyplot as plt\n",
    "import seaborn as sns\n",
    "\n",
    "\n",
    "# predicciones en el conjunto de prueba\n",
    "y_pred = rf_best_model.predict(X_test)\n",
    "\n",
    "# matriz de confusión\n",
    "conf_matrix = confusion_matrix(y_test, y_pred)\n",
    "plt.figure(figsize=(8, 6))\n",
    "sns.heatmap(conf_matrix, annot=True, fmt='d', cmap='Blues', xticklabels=encoder.classes_, yticklabels=encoder.classes_)\n",
    "plt.xlabel('Predicted label')\n",
    "plt.ylabel('True label')\n",
    "plt.title('Confusion Matriz - RandomForest')\n",
    "plt.show()"
   ]
  },
  {
   "cell_type": "code",
   "execution_count": 14,
   "metadata": {},
   "outputs": [
    {
     "name": "stdout",
     "output_type": "stream",
     "text": [
      "              precision    recall  f1-score   support\n",
      "\n",
      "           0       0.64      0.43      0.51        21\n",
      "           1       0.14      0.06      0.08        18\n",
      "           2       0.62      0.92      0.74        37\n",
      "\n",
      "    accuracy                           0.58        76\n",
      "   macro avg       0.47      0.47      0.44        76\n",
      "weighted avg       0.51      0.58      0.52        76\n",
      "\n"
     ]
    }
   ],
   "source": [
    "from sklearn.metrics import classification_report\n",
    "\n",
    "# reporte de clasificación\n",
    "print(classification_report(y_test, y_pred))"
   ]
  },
  {
   "cell_type": "markdown",
   "metadata": {},
   "source": [
    "Obtenemos la importancia de cada una de las características."
   ]
  },
  {
   "cell_type": "code",
   "execution_count": 15,
   "metadata": {},
   "outputs": [
    {
     "name": "stdout",
     "output_type": "stream",
     "text": [
      "Importance of features:\n",
      "                                   Feature  Importance\n",
      "70           percentage_shots_high_xG_home    0.059723\n",
      "2    average_shots_on_target_distance_home    0.035896\n",
      "0               shots_on_target_ratio_home    0.034457\n",
      "35    set_piece_shots_on_target_ratio_home    0.029654\n",
      "72              percentage_shots_foot_home    0.022944\n",
      "1               shots_on_target_ratio_away    0.022852\n",
      "100           percentage_dispossessed_home    0.022740\n",
      "96                percentage_offsides_home    0.022496\n",
      "71       percentage_shots_inside_area_home    0.020876\n",
      "7                  pass_success_ratio_away    0.020616\n"
     ]
    }
   ],
   "source": [
    "# importancia de características\n",
    "feature_importances = pd.DataFrame({\n",
    "    'Feature': X.columns,\n",
    "    'Importance': rf_best_model.named_steps['classifier'].feature_importances_\n",
    "}).sort_values(by='Importance', ascending=False)\n",
    "\n",
    "print(\"Importance of features:\")\n",
    "print(feature_importances.head(10))"
   ]
  },
  {
   "cell_type": "markdown",
   "metadata": {},
   "source": [
    "Reducimos los datos, utilizando las características más importantes y replicamos el proceso anterior para ver si mejora el modelo."
   ]
  },
  {
   "cell_type": "code",
   "execution_count": 16,
   "metadata": {},
   "outputs": [],
   "source": [
    "# filtramos la características con importancia mayor a un umbral\n",
    "important_features = feature_importances[feature_importances['Importance'] > 0.001]['Feature']\n",
    "X_reduced = X[important_features]\n",
    "\n",
    "# dividimos los datos reducidos en entrenamiento y prueba\n",
    "X_train_reduced, X_test_reduced, y_train, y_test = divide_data_in_train_test(X_reduced, y, test_size=0.2)"
   ]
  },
  {
   "cell_type": "code",
   "execution_count": 17,
   "metadata": {},
   "outputs": [
    {
     "name": "stdout",
     "output_type": "stream",
     "text": [
      "Fitting 5 folds for each of 36 candidates, totalling 180 fits\n",
      "Best hyperparameters: {'classifier__max_depth': 10, 'classifier__min_samples_split': 5, 'classifier__n_estimators': 150}\n",
      "Train Accuracy (Reduced): 0.9967\n",
      "Test Accuracy (Reduced): 0.6184\n",
      "Cross-Validation Accuracy (Reduced): 0.6286 +/- 0.0519\n"
     ]
    }
   ],
   "source": [
    "# entrenamos el modelo con las características reducidas\n",
    "grid_search.fit(X_train_reduced, y_train)\n",
    "# mejores parámetros\n",
    "print(\"Best hyperparameters:\", grid_search.best_params_)\n",
    "# mejor modelo reducido\n",
    "rf_best_model_reduced = grid_search.best_estimator_\n",
    "\n",
    "# evaluamos el modelo\n",
    "train_accuracy_reduced = rf_best_model_reduced.score(X_train_reduced, y_train)\n",
    "print(f\"Train Accuracy (Reduced): {train_accuracy_reduced:.4f}\")\n",
    "test_accuracy_reduced = rf_best_model_reduced.score(X_test_reduced, y_test)\n",
    "print(f\"Test Accuracy (Reduced): {test_accuracy_reduced:.4f}\")\n",
    "\n",
    "# validación cruzada\n",
    "cv_scores_reduced = cross_val_score(rf_best_model_reduced, X_train_reduced, y_train, cv=5, scoring='accuracy')\n",
    "print(f\"Cross-Validation Accuracy (Reduced): {cv_scores_reduced.mean():.4f} +/- {cv_scores_reduced.std():.4f}\")"
   ]
  },
  {
   "cell_type": "code",
   "execution_count": 18,
   "metadata": {},
   "outputs": [
    {
     "data": {
      "image/png": "[encoded data removed]",
      "text/plain": [
       "<Figure size 800x600 with 2 Axes>"
      ]
     },
     "metadata": {},
     "output_type": "display_data"
    }
   ],
   "source": [
    "# predicciones en el conjunto de prueba\n",
    "y_pred_reduced = rf_best_model_reduced.predict(X_test_reduced)\n",
    "\n",
    "# matriz de confusión\n",
    "conf_matrix = confusion_matrix(y_test, y_pred_reduced)\n",
    "plt.figure(figsize=(8, 6))\n",
    "sns.heatmap(conf_matrix, annot=True, fmt='d', cmap='Blues', xticklabels=encoder.classes_, yticklabels=encoder.classes_)\n",
    "plt.xlabel('Predicted label')\n",
    "plt.ylabel('True label')\n",
    "plt.title('Confusion Matriz - RandomForest')\n",
    "plt.show()"
   ]
  },
  {
   "cell_type": "code",
   "execution_count": 19,
   "metadata": {},
   "outputs": [
    {
     "name": "stdout",
     "output_type": "stream",
     "text": [
      "              precision    recall  f1-score   support\n",
      "\n",
      "           0       0.71      0.57      0.63        21\n",
      "           1       0.40      0.11      0.17        18\n",
      "           2       0.61      0.89      0.73        37\n",
      "\n",
      "    accuracy                           0.62        76\n",
      "   macro avg       0.57      0.52      0.51        76\n",
      "weighted avg       0.59      0.62      0.57        76\n",
      "\n"
     ]
    }
   ],
   "source": [
    "# reporte de clasificación\n",
    "print(classification_report(y_test, y_pred_reduced))"
   ]
  },
  {
   "cell_type": "markdown",
   "metadata": {},
   "source": [
    "##### DecisionTree"
   ]
  },
  {
   "cell_type": "markdown",
   "metadata": {},
   "source": [
    "Establecemos el pipeline que vamos a utilizar y definimos la búsqueda de hiperparámetros."
   ]
  },
  {
   "cell_type": "code",
   "execution_count": 20,
   "metadata": {},
   "outputs": [],
   "source": [
    "from sklearn.pipeline import Pipeline\n",
    "from sklearn.tree import DecisionTreeClassifier\n",
    "\n",
    "\n",
    "# definimos un pipeline para el modelo DecisionTreeClassifier\n",
    "dt_pipeline = Pipeline([\n",
    "    ('classifier', DecisionTreeClassifier(random_state=42))\n",
    "])\n",
    "\n",
    "# definimos el espacio de búsqueda de hiperparámetros\n",
    "dt_param_grid = {\n",
    "    'classifier__max_depth': [5, 8, 10],\n",
    "    'classifier__min_samples_split': [2, 5, 8],\n",
    "    'classifier__min_samples_leaf': [1, 2, 4]\n",
    "}"
   ]
  },
  {
   "cell_type": "markdown",
   "metadata": {},
   "source": [
    "Buscamos la mejor combinación de hiperparámetros para trabajar. Una vez escogido evaluamos los datos de entrenamiento y de test."
   ]
  },
  {
   "cell_type": "code",
   "execution_count": 21,
   "metadata": {},
   "outputs": [
    {
     "name": "stdout",
     "output_type": "stream",
     "text": [
      "Fitting 5 folds for each of 27 candidates, totalling 135 fits\n",
      "Best hyperparameters: {'classifier__max_depth': 8, 'classifier__min_samples_leaf': 4, 'classifier__min_samples_split': 2}\n"
     ]
    }
   ],
   "source": [
    "from sklearn.model_selection import GridSearchCV\n",
    "\n",
    "\n",
    "# realizamos la búsqueda de hiperparámetros\n",
    "grid_search = GridSearchCV(dt_pipeline, dt_param_grid, cv=5, scoring='accuracy', verbose=1, n_jobs=-1)\n",
    "grid_search.fit(X_train, y_train)\n",
    "\n",
    "# mejores parámetros\n",
    "print(\"Best hyperparameters:\", grid_search.best_params_)\n",
    "# mejor modelo\n",
    "dt_best_model = grid_search.best_estimator_"
   ]
  },
  {
   "cell_type": "code",
   "execution_count": 22,
   "metadata": {},
   "outputs": [
    {
     "name": "stdout",
     "output_type": "stream",
     "text": [
      "Train Accuracy: 0.8849\n",
      "Test Accuracy: 0.4737\n"
     ]
    }
   ],
   "source": [
    "# evaluación en el conjunto de entrenamiento y prueba\n",
    "train_accuracy = dt_best_model.score(X_train, y_train)\n",
    "print(f\"Train Accuracy: {train_accuracy:.4f}\")\n",
    "test_accuracy = dt_best_model.score(X_test, y_test)\n",
    "print(f\"Test Accuracy: {test_accuracy:.4f}\")"
   ]
  },
  {
   "cell_type": "markdown",
   "metadata": {},
   "source": [
    "Realizamos una validación cruzada."
   ]
  },
  {
   "cell_type": "code",
   "execution_count": 23,
   "metadata": {},
   "outputs": [
    {
     "name": "stdout",
     "output_type": "stream",
     "text": [
      "Cross-Validation Accuracy: 0.5295 +/- 0.0533\n"
     ]
    }
   ],
   "source": [
    "from sklearn.model_selection import cross_val_score\n",
    "\n",
    "# validación cruzada con el mejor modelo\n",
    "cv_scores = cross_val_score(dt_best_model, X_train, y_train, cv=5, scoring='accuracy')\n",
    "print(f\"Cross-Validation Accuracy: {cv_scores.mean():.4f} +/- {cv_scores.std():.4f}\")"
   ]
  },
  {
   "cell_type": "markdown",
   "metadata": {},
   "source": [
    "Realizamos una matriz de confusión y vemos todas la métricas (precision, accuracy, f1_score...) para averiguar donde falla más nuestro modelo."
   ]
  },
  {
   "cell_type": "code",
   "execution_count": 24,
   "metadata": {},
   "outputs": [
    {
     "data": {
      "image/png": "[encoded data removed]",
      "text/plain": [
       "<Figure size 800x600 with 2 Axes>"
      ]
     },
     "metadata": {},
     "output_type": "display_data"
    }
   ],
   "source": [
    "from sklearn.metrics import confusion_matrix\n",
    "import matplotlib.pyplot as plt\n",
    "import seaborn as sns\n",
    "\n",
    "\n",
    "# predicciones en el conjunto de prueba\n",
    "y_pred = dt_best_model.predict(X_test)\n",
    "\n",
    "# matriz de confusión\n",
    "conf_matrix = confusion_matrix(y_test, y_pred)\n",
    "plt.figure(figsize=(8, 6))\n",
    "sns.heatmap(conf_matrix, annot=True, fmt='d', cmap='Blues', xticklabels=encoder.classes_, yticklabels=encoder.classes_)\n",
    "plt.xlabel('Predicted label')\n",
    "plt.ylabel('True label')\n",
    "plt.title('Confusion Matrix - DecisionTree')\n",
    "plt.show()"
   ]
  },
  {
   "cell_type": "code",
   "execution_count": 25,
   "metadata": {},
   "outputs": [
    {
     "name": "stdout",
     "output_type": "stream",
     "text": [
      "              precision    recall  f1-score   support\n",
      "\n",
      "           0       0.46      0.57      0.51        21\n",
      "           1       0.32      0.33      0.32        18\n",
      "           2       0.58      0.49      0.53        37\n",
      "\n",
      "    accuracy                           0.47        76\n",
      "   macro avg       0.45      0.46      0.45        76\n",
      "weighted avg       0.49      0.47      0.48        76\n",
      "\n"
     ]
    }
   ],
   "source": [
    "from sklearn.metrics import classification_report\n",
    "\n",
    "# reporte de clasificación\n",
    "print(classification_report(y_test, y_pred))"
   ]
  },
  {
   "cell_type": "markdown",
   "metadata": {},
   "source": [
    "Obtenemos la importancia de cada una de las características."
   ]
  },
  {
   "cell_type": "code",
   "execution_count": 26,
   "metadata": {},
   "outputs": [
    {
     "name": "stdout",
     "output_type": "stream",
     "text": [
      "Importance of features:\n",
      "                                    Feature  Importance\n",
      "70            percentage_shots_high_xG_home    0.180895\n",
      "0                shots_on_target_ratio_home    0.079805\n",
      "100            percentage_dispossessed_home    0.076078\n",
      "2     average_shots_on_target_distance_home    0.065423\n",
      "101          percentage_counterattacks_home    0.059429\n",
      "7                   pass_success_ratio_away    0.042719\n",
      "67            std_shots_last_3_matches_away    0.040572\n",
      "73               percentage_shots_head_home    0.034412\n",
      "29   passes_inside_area_under_pressure_home    0.032294\n",
      "49             win_rate_last_5_matches_home    0.031985\n"
     ]
    }
   ],
   "source": [
    "# importancia de características\n",
    "feature_importances = pd.DataFrame({\n",
    "    'Feature': X.columns,\n",
    "    'Importance': dt_best_model.named_steps['classifier'].feature_importances_\n",
    "}).sort_values(by='Importance', ascending=False)\n",
    "\n",
    "print(\"Importance of features:\")\n",
    "print(feature_importances.head(10))"
   ]
  },
  {
   "cell_type": "markdown",
   "metadata": {},
   "source": [
    "Reducimos los datos, utilizando las características más importantes y replicamos el proceso anterior para ver si mejora el modelo."
   ]
  },
  {
   "cell_type": "code",
   "execution_count": 27,
   "metadata": {},
   "outputs": [],
   "source": [
    "# filtramos las características con importancia mayor a un umbral\n",
    "important_features = feature_importances[feature_importances['Importance'] > 0.01]['Feature']\n",
    "X_reduced = X[important_features]\n",
    "\n",
    "# dividimos los datos reducidos en entrenamiento y prueba\n",
    "X_train_reduced, X_test_reduced, y_train, y_test = divide_data_in_train_test(X_reduced, y, test_size=0.2)"
   ]
  },
  {
   "cell_type": "code",
   "execution_count": 28,
   "metadata": {},
   "outputs": [
    {
     "name": "stdout",
     "output_type": "stream",
     "text": [
      "Fitting 5 folds for each of 27 candidates, totalling 135 fits\n",
      "Best hyperparameters: {'classifier__max_depth': 5, 'classifier__min_samples_leaf': 4, 'classifier__min_samples_split': 2}\n",
      "Train Accuracy (Reduced): 0.7961\n",
      "Test Accuracy (Reduced): 0.5658\n",
      "Cross-Validation Accuracy (Reduced): 0.5856 +/- 0.0223\n"
     ]
    }
   ],
   "source": [
    "# entrenamos el modelo con las características reducidas\n",
    "grid_search.fit(X_train_reduced, y_train)\n",
    "# mejores parámetros\n",
    "print(\"Best hyperparameters:\", grid_search.best_params_)\n",
    "# mejor modelo reducido\n",
    "dt_best_model_reduced = grid_search.best_estimator_\n",
    "\n",
    "# evaluación del modelo reducido\n",
    "train_accuracy_reduced = dt_best_model_reduced.score(X_train_reduced, y_train)\n",
    "print(f\"Train Accuracy (Reduced): {train_accuracy_reduced:.4f}\")\n",
    "test_accuracy_reduced = dt_best_model_reduced.score(X_test_reduced, y_test)\n",
    "print(f\"Test Accuracy (Reduced): {test_accuracy_reduced:.4f}\")\n",
    "\n",
    "# validación cruzada con el modelo reducido\n",
    "cv_scores_reduced = cross_val_score(dt_best_model_reduced, X_train_reduced, y_train, cv=5, scoring='accuracy')\n",
    "print(f\"Cross-Validation Accuracy (Reduced): {cv_scores_reduced.mean():.4f} +/- {cv_scores_reduced.std():.4f}\")"
   ]
  },
  {
   "cell_type": "code",
   "execution_count": 29,
   "metadata": {},
   "outputs": [
    {
     "data": {
      "image/png": "[encoded data removed]",
      "text/plain": [
       "<Figure size 800x600 with 2 Axes>"
      ]
     },
     "metadata": {},
     "output_type": "display_data"
    }
   ],
   "source": [
    "# predicciones en el conjunto de prueba reducido\n",
    "y_pred_reduced = dt_best_model_reduced.predict(X_test_reduced)\n",
    "\n",
    "# matriz de confusión para modelo reducido\n",
    "conf_matrix = confusion_matrix(y_test, y_pred_reduced)\n",
    "plt.figure(figsize=(8, 6))\n",
    "sns.heatmap(conf_matrix, annot=True, fmt='d', cmap='Blues', xticklabels=encoder.classes_, yticklabels=encoder.classes_)\n",
    "plt.xlabel('Predicted label')\n",
    "plt.ylabel('True label')\n",
    "plt.title('Confusion Matrix - DecisionTree Reduced')\n",
    "plt.show()"
   ]
  },
  {
   "cell_type": "code",
   "execution_count": 30,
   "metadata": {},
   "outputs": [
    {
     "name": "stdout",
     "output_type": "stream",
     "text": [
      "              precision    recall  f1-score   support\n",
      "\n",
      "           0       0.48      0.57      0.52        21\n",
      "           1       0.45      0.28      0.34        18\n",
      "           2       0.65      0.70      0.68        37\n",
      "\n",
      "    accuracy                           0.57        76\n",
      "   macro avg       0.53      0.52      0.51        76\n",
      "weighted avg       0.56      0.57      0.55        76\n",
      "\n"
     ]
    }
   ],
   "source": [
    "# reporte de clasificación para modelo reducido\n",
    "print(classification_report(y_test, y_pred_reduced))"
   ]
  },
  {
   "cell_type": "markdown",
   "metadata": {},
   "source": [
    "##### LogisticRegression"
   ]
  },
  {
   "cell_type": "markdown",
   "metadata": {},
   "source": [
    "Establecemos el pipeline que vamos a utilizar y definimos la búsqueda de hiperparámetros."
   ]
  },
  {
   "cell_type": "code",
   "execution_count": 31,
   "metadata": {},
   "outputs": [],
   "source": [
    "from sklearn.pipeline import Pipeline\n",
    "from sklearn.linear_model import LogisticRegression\n",
    "from sklearn.preprocessing import StandardScaler\n",
    "\n",
    "\n",
    "# definimos un pipeline para el modelo LogisticRegression con StandardScaler\n",
    "lr_pipeline = Pipeline([\n",
    "    ('scaler', StandardScaler()),\n",
    "    ('classifier', LogisticRegression(random_state=42, max_iter=1000))\n",
    "])\n",
    "\n",
    "# definimos el espacio de búsqueda de hiperparámetros\n",
    "lr_param_grid = [\n",
    "    {'classifier__penalty': ['l1'], 'classifier__solver': ['liblinear', 'saga'], 'classifier__C': [0.01, 0.1, 1, 10, 100]},\n",
    "    {'classifier__penalty': ['l2'], 'classifier__solver': ['lbfgs', 'liblinear', 'saga', 'newton-cg'], 'classifier__C': [0.01, 0.1, 1, 10, 100]},\n",
    "    {'classifier__penalty': ['elasticnet'], 'classifier__solver': ['saga'], 'classifier__C': [0.01, 0.1, 1, 10, 100], 'classifier__l1_ratio': [0.1, 0.5, 0.9]},\n",
    "    {'classifier__penalty': [None], 'classifier__solver': ['lbfgs', 'saga', 'newton-cg']}\n",
    "]"
   ]
  },
  {
   "cell_type": "markdown",
   "metadata": {},
   "source": [
    "Buscamos la mejor combinación de hiperparámetros para trabajar. Una vez escogido evaluamos los datos de entrenamiento y de test."
   ]
  },
  {
   "cell_type": "code",
   "execution_count": 32,
   "metadata": {},
   "outputs": [
    {
     "name": "stdout",
     "output_type": "stream",
     "text": [
      "Fitting 5 folds for each of 48 candidates, totalling 240 fits\n",
      "Best hyperparameters: {'classifier__C': 0.1, 'classifier__penalty': 'l1', 'classifier__solver': 'liblinear'}\n"
     ]
    }
   ],
   "source": [
    "from sklearn.model_selection import GridSearchCV\n",
    "\n",
    "\n",
    "# realizamos la búsqueda de hiperparámetros\n",
    "grid_search = GridSearchCV(lr_pipeline, lr_param_grid, cv=5, scoring='accuracy', verbose=1, n_jobs=-1)\n",
    "grid_search.fit(X_train, y_train)\n",
    "\n",
    "# mejores parámetros\n",
    "print(\"Best hyperparameters:\", grid_search.best_params_)\n",
    "# mejor modelo\n",
    "lr_best_model = grid_search.best_estimator_"
   ]
  },
  {
   "cell_type": "code",
   "execution_count": 33,
   "metadata": {},
   "outputs": [
    {
     "name": "stdout",
     "output_type": "stream",
     "text": [
      "Train Accuracy: 0.7566\n",
      "Test Accuracy: 0.6579\n"
     ]
    }
   ],
   "source": [
    "# evaluación en el conjunto de entrenamiento y prueba\n",
    "train_accuracy = lr_best_model.score(X_train, y_train)\n",
    "print(f\"Train Accuracy: {train_accuracy:.4f}\")\n",
    "test_accuracy = lr_best_model.score(X_test, y_test)\n",
    "print(f\"Test Accuracy: {test_accuracy:.4f}\")"
   ]
  },
  {
   "cell_type": "markdown",
   "metadata": {},
   "source": [
    "Realizamos una validación cruzada."
   ]
  },
  {
   "cell_type": "code",
   "execution_count": 34,
   "metadata": {},
   "outputs": [
    {
     "name": "stdout",
     "output_type": "stream",
     "text": [
      "Cross-Validation Accuracy: 0.6744 +/- 0.0358\n"
     ]
    }
   ],
   "source": [
    "from sklearn.model_selection import cross_val_score\n",
    "\n",
    "# validación cruzada con el mejor modelo\n",
    "cv_scores = cross_val_score(lr_best_model, X_train, y_train, cv=5, scoring='accuracy')\n",
    "print(f\"Cross-Validation Accuracy: {cv_scores.mean():.4f} +/- {cv_scores.std():.4f}\")"
   ]
  },
  {
   "cell_type": "markdown",
   "metadata": {},
   "source": [
    "Realizamos una matriz de confusión y vemos todas la métricas (precision, accuracy, f1_score...) para averiguar donde falla más nuestro modelo."
   ]
  },
  {
   "cell_type": "code",
   "execution_count": 35,
   "metadata": {},
   "outputs": [
    {
     "data": {
      "image/png": "[encoded data removed]",
      "text/plain": [
       "<Figure size 800x600 with 2 Axes>"
      ]
     },
     "metadata": {},
     "output_type": "display_data"
    }
   ],
   "source": [
    "from sklearn.metrics import confusion_matrix\n",
    "import matplotlib.pyplot as plt\n",
    "import seaborn as sns\n",
    "\n",
    "\n",
    "# predicciones en el conjunto de prueba\n",
    "y_pred = lr_best_model.predict(X_test)\n",
    "\n",
    "# matriz de confusión\n",
    "conf_matrix = confusion_matrix(y_test, y_pred)\n",
    "plt.figure(figsize=(8, 6))\n",
    "sns.heatmap(conf_matrix, annot=True, fmt='d', cmap='Blues', xticklabels=encoder.classes_, yticklabels=encoder.classes_)\n",
    "plt.xlabel('Predicted label')\n",
    "plt.ylabel('True label')\n",
    "plt.title('Confusion Matrix - Logistic Regression')\n",
    "plt.show()"
   ]
  },
  {
   "cell_type": "code",
   "execution_count": 36,
   "metadata": {},
   "outputs": [
    {
     "name": "stdout",
     "output_type": "stream",
     "text": [
      "              precision    recall  f1-score   support\n",
      "\n",
      "           0       0.58      0.67      0.62        21\n",
      "           1       0.75      0.17      0.27        18\n",
      "           2       0.69      0.89      0.78        37\n",
      "\n",
      "    accuracy                           0.66        76\n",
      "   macro avg       0.67      0.58      0.56        76\n",
      "weighted avg       0.67      0.66      0.61        76\n",
      "\n"
     ]
    }
   ],
   "source": [
    "from sklearn.metrics import classification_report\n",
    "\n",
    "# reporte de clasificación\n",
    "print(classification_report(y_test, y_pred))"
   ]
  },
  {
   "cell_type": "markdown",
   "metadata": {},
   "source": [
    "Obtenemos la importancia de cada una de las características."
   ]
  },
  {
   "cell_type": "code",
   "execution_count": 37,
   "metadata": {},
   "outputs": [
    {
     "name": "stdout",
     "output_type": "stream",
     "text": [
      "Importance of features:\n",
      "                                          Feature  Coefficient\n",
      "1                      shots_on_target_ratio_away     0.287848\n",
      "88             percentage_penaltys_committed_home     0.210856\n",
      "63                   goals_scored_last_match_away     0.163997\n",
      "92                      percentage_red_cards_home     0.096000\n",
      "100                  percentage_dispossessed_home     0.084468\n",
      "20                   recoveries_middle_third_away     0.079924\n",
      "77   difference_passes_needed_to_make_a_shot_home     0.054319\n",
      "39                    tactical_substitutions_home     0.053991\n",
      "85                percentage_fouls_committed_home     0.033084\n",
      "6                         pass_success_ratio_home     0.022545\n"
     ]
    }
   ],
   "source": [
    "# coeficientes del modelo\n",
    "feature_importances = pd.DataFrame({\n",
    "    'Feature': X.columns,\n",
    "    'Coefficient': lr_best_model.named_steps['classifier'].coef_[0]\n",
    "}).sort_values(by='Coefficient', ascending=False)\n",
    "\n",
    "print(\"Importance of features:\")\n",
    "print(feature_importances.head(10))"
   ]
  },
  {
   "cell_type": "markdown",
   "metadata": {},
   "source": [
    "Reducimos los datos, utilizando las características más importantes y replicamos el proceso anterior para ver si mejora el modelo."
   ]
  },
  {
   "cell_type": "code",
   "execution_count": 38,
   "metadata": {},
   "outputs": [],
   "source": [
    "# filtramos las características con coeficientes mayores a un umbral\n",
    "important_features = feature_importances[feature_importances['Coefficient'].abs() > 0.005]['Feature']\n",
    "X_reduced = X[important_features]\n",
    "\n",
    "# dividimos los datos reducidos en entrenamiento y prueba\n",
    "X_train_reduced, X_test_reduced, y_train, y_test = divide_data_in_train_test(X_reduced, y, test_size=0.2)"
   ]
  },
  {
   "cell_type": "code",
   "execution_count": 39,
   "metadata": {},
   "outputs": [
    {
     "name": "stdout",
     "output_type": "stream",
     "text": [
      "Fitting 5 folds for each of 48 candidates, totalling 240 fits\n",
      "Best hyperparameters: {'classifier__C': 0.01, 'classifier__penalty': 'l2', 'classifier__solver': 'lbfgs'}\n",
      "Train Accuracy (Reduced): 0.7171\n",
      "Test Accuracy (Reduced): 0.6053\n",
      "Cross-Validation Accuracy (Reduced): 0.6843 +/- 0.0385\n"
     ]
    }
   ],
   "source": [
    "# entrenamos el modelo con las características reducidas\n",
    "grid_search.fit(X_train_reduced, y_train)\n",
    "# mejores parámetros\n",
    "print(\"Best hyperparameters:\", grid_search.best_params_)\n",
    "# mejor modelo reducido\n",
    "lr_best_model_reduced = grid_search.best_estimator_\n",
    "\n",
    "# evaluación del modelo reducido\n",
    "train_accuracy_reduced = lr_best_model_reduced.score(X_train_reduced, y_train)\n",
    "print(f\"Train Accuracy (Reduced): {train_accuracy_reduced:.4f}\")\n",
    "test_accuracy_reduced = lr_best_model_reduced.score(X_test_reduced, y_test)\n",
    "print(f\"Test Accuracy (Reduced): {test_accuracy_reduced:.4f}\")\n",
    "\n",
    "# validación cruzada con el modelo reducido\n",
    "cv_scores_reduced = cross_val_score(lr_best_model_reduced, X_train_reduced, y_train, cv=5, scoring='accuracy')\n",
    "print(f\"Cross-Validation Accuracy (Reduced): {cv_scores_reduced.mean():.4f} +/- {cv_scores_reduced.std():.4f}\")"
   ]
  },
  {
   "cell_type": "code",
   "execution_count": 40,
   "metadata": {},
   "outputs": [
    {
     "data": {
      "image/png": "[encoded data removed]",
      "text/plain": [
       "<Figure size 800x600 with 2 Axes>"
      ]
     },
     "metadata": {},
     "output_type": "display_data"
    }
   ],
   "source": [
    "# predicciones en el conjunto de prueba reducido\n",
    "y_pred_reduced = lr_best_model_reduced.predict(X_test_reduced)\n",
    "\n",
    "# matriz de confusión para modelo reducido\n",
    "conf_matrix = confusion_matrix(y_test, y_pred_reduced)\n",
    "plt.figure(figsize=(8, 6))\n",
    "sns.heatmap(conf_matrix, annot=True, fmt='d', cmap='Blues', xticklabels=encoder.classes_, yticklabels=encoder.classes_)\n",
    "plt.xlabel('Predicted label')\n",
    "plt.ylabel('True label')\n",
    "plt.title('Confusion Matrix - Logistic Regression Reduced')\n",
    "plt.show()"
   ]
  },
  {
   "cell_type": "code",
   "execution_count": 41,
   "metadata": {},
   "outputs": [
    {
     "name": "stdout",
     "output_type": "stream",
     "text": [
      "              precision    recall  f1-score   support\n",
      "\n",
      "           0       0.61      0.52      0.56        21\n",
      "           1       0.20      0.06      0.09        18\n",
      "           2       0.64      0.92      0.76        37\n",
      "\n",
      "    accuracy                           0.61        76\n",
      "   macro avg       0.48      0.50      0.47        76\n",
      "weighted avg       0.53      0.61      0.54        76\n",
      "\n"
     ]
    }
   ],
   "source": [
    "# reporte de clasificación para modelo reducido\n",
    "print(classification_report(y_test, y_pred_reduced))"
   ]
  },
  {
   "cell_type": "markdown",
   "metadata": {},
   "source": [
    "##### kNN"
   ]
  },
  {
   "cell_type": "markdown",
   "metadata": {},
   "source": [
    "Establecemos el pipeline que vamos a utilizar y definimos la búsqueda de hiperparámetros."
   ]
  },
  {
   "cell_type": "code",
   "execution_count": 42,
   "metadata": {},
   "outputs": [],
   "source": [
    "from sklearn.pipeline import Pipeline\n",
    "from sklearn.preprocessing import MinMaxScaler\n",
    "from sklearn.neighbors import KNeighborsClassifier\n",
    "\n",
    "\n",
    "# definimos un pipeline para el modelo KNeighborsClassifier con StandardScaler\n",
    "knn_pipeline = Pipeline([\n",
    "    ('scaler', MinMaxScaler()),\n",
    "    ('classifier', KNeighborsClassifier())\n",
    "])\n",
    "\n",
    "# definimos el espacio de búsqueda de hiperparámetros\n",
    "knn_param_grid = {\n",
    "    'classifier__n_neighbors': [3, 5, 7, 9],\n",
    "    'classifier__weights': ['uniform', 'distance'],\n",
    "    'classifier__metric': ['euclidean', 'manhattan', 'minkowski']\n",
    "}"
   ]
  },
  {
   "cell_type": "markdown",
   "metadata": {},
   "source": [
    "Buscamos la mejor combinación de hiperparámetros para trabajar. Una vez escogido evaluamos los datos de entrenamiento y de test."
   ]
  },
  {
   "cell_type": "code",
   "execution_count": 43,
   "metadata": {},
   "outputs": [
    {
     "name": "stdout",
     "output_type": "stream",
     "text": [
      "Fitting 5 folds for each of 24 candidates, totalling 120 fits\n",
      "Best hyperparameters: {'classifier__metric': 'euclidean', 'classifier__n_neighbors': 7, 'classifier__weights': 'distance'}\n"
     ]
    }
   ],
   "source": [
    "from sklearn.model_selection import GridSearchCV\n",
    "\n",
    "\n",
    "# realizamos la búsqueda de hiperparámetros\n",
    "grid_search = GridSearchCV(knn_pipeline, knn_param_grid, cv=5, scoring='accuracy', verbose=1, n_jobs=-1)\n",
    "grid_search.fit(X_train, y_train)\n",
    "\n",
    "# mejores parámetros\n",
    "print(\"Best hyperparameters:\", grid_search.best_params_)\n",
    "# mejor modelo\n",
    "knn_best_model = grid_search.best_estimator_"
   ]
  },
  {
   "cell_type": "code",
   "execution_count": 44,
   "metadata": {},
   "outputs": [
    {
     "name": "stdout",
     "output_type": "stream",
     "text": [
      "Train Accuracy: 1.0000\n",
      "Test Accuracy: 0.5263\n"
     ]
    }
   ],
   "source": [
    "# evaluación en el conjunto de entrenamiento y prueba\n",
    "train_accuracy = knn_best_model.score(X_train, y_train)\n",
    "print(f\"Train Accuracy: {train_accuracy:.4f}\")\n",
    "test_accuracy = knn_best_model.score(X_test, y_test)\n",
    "print(f\"Test Accuracy: {test_accuracy:.4f}\")"
   ]
  },
  {
   "cell_type": "markdown",
   "metadata": {},
   "source": [
    "Realizamos una validación cruzada."
   ]
  },
  {
   "cell_type": "code",
   "execution_count": 45,
   "metadata": {},
   "outputs": [
    {
     "name": "stdout",
     "output_type": "stream",
     "text": [
      "Cross-Validation Accuracy: 0.5727 +/- 0.0843\n"
     ]
    }
   ],
   "source": [
    "# validación cruzada con el mejor modelo\n",
    "cv_scores = cross_val_score(knn_best_model, X_train, y_train, cv=5, scoring='accuracy')\n",
    "print(f\"Cross-Validation Accuracy: {cv_scores.mean():.4f} +/- {cv_scores.std():.4f}\")"
   ]
  },
  {
   "cell_type": "markdown",
   "metadata": {},
   "source": [
    "Realizamos una matriz de confusión y vemos todas la métricas (precision, accuracy, f1_score...) para averiguar donde falla más nuestro modelo."
   ]
  },
  {
   "cell_type": "code",
   "execution_count": 46,
   "metadata": {},
   "outputs": [
    {
     "data": {
      "image/png": "[encoded data removed]",
      "text/plain": [
       "<Figure size 800x600 with 2 Axes>"
      ]
     },
     "metadata": {},
     "output_type": "display_data"
    }
   ],
   "source": [
    "# predicciones en el conjunto de prueba\n",
    "y_pred = knn_best_model.predict(X_test)\n",
    "\n",
    "# Matriz de confusión\n",
    "conf_matrix = confusion_matrix(y_test, y_pred)\n",
    "plt.figure(figsize=(8, 6))\n",
    "sns.heatmap(conf_matrix, annot=True, fmt='d', cmap='Blues', xticklabels=encoder.classes_, yticklabels=encoder.classes_)\n",
    "plt.xlabel('Predicted label')\n",
    "plt.ylabel('True label')\n",
    "plt.title('Confusion Matrix - KNN')\n",
    "plt.show()"
   ]
  },
  {
   "cell_type": "code",
   "execution_count": 47,
   "metadata": {},
   "outputs": [
    {
     "name": "stdout",
     "output_type": "stream",
     "text": [
      "              precision    recall  f1-score   support\n",
      "\n",
      "           0       0.41      0.33      0.37        21\n",
      "           1       0.14      0.11      0.12        18\n",
      "           2       0.69      0.84      0.76        37\n",
      "\n",
      "    accuracy                           0.53        76\n",
      "   macro avg       0.41      0.43      0.42        76\n",
      "weighted avg       0.48      0.53      0.50        76\n",
      "\n"
     ]
    }
   ],
   "source": [
    "from sklearn.metrics import classification_report\n",
    "\n",
    "# reporte de clasificación\n",
    "print(classification_report(y_test, y_pred))"
   ]
  },
  {
   "cell_type": "code",
   "execution_count": null,
   "metadata": {},
   "outputs": [],
   "source": []
  },
  {
   "cell_type": "code",
   "execution_count": null,
   "metadata": {},
   "outputs": [],
   "source": []
  },
  {
   "cell_type": "code",
   "execution_count": null,
   "metadata": {},
   "outputs": [],
   "source": []
  },
  {
   "cell_type": "code",
   "execution_count": null,
   "metadata": {},
   "outputs": [],
   "source": []
  },
  {
   "cell_type": "code",
   "execution_count": null,
   "metadata": {},
   "outputs": [],
   "source": []
  },
  {
   "cell_type": "code",
   "execution_count": null,
   "metadata": {},
   "outputs": [],
   "source": []
  },
  {
   "cell_type": "code",
   "execution_count": null,
   "metadata": {},
   "outputs": [],
   "source": []
  },
  {
   "cell_type": "code",
   "execution_count": null,
   "metadata": {},
   "outputs": [],
   "source": []
  },
  {
   "cell_type": "code",
   "execution_count": null,
   "metadata": {},
   "outputs": [],
   "source": []
  },
  {
   "cell_type": "code",
   "execution_count": null,
   "metadata": {},
   "outputs": [],
   "source": []
  }
 ],
 "metadata": {
  "kernelspec": {
   "display_name": "Python 3",
   "language": "python",
   "name": "python3"
  },
  "language_info": {
   "codemirror_mode": {
    "name": "ipython",
    "version": 3
   },
   "file_extension": ".py",
   "mimetype": "text/x-python",
   "name": "python",
   "nbconvert_exporter": "python",
   "pygments_lexer": "ipython3",
   "version": "3.12.4"
  }
 },
 "nbformat": 4,
 "nbformat_minor": 4
}
